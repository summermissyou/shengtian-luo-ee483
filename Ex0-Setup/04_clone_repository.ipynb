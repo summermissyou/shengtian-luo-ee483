{
 "cells": [
  {
   "cell_type": "markdown",
   "metadata": {},
   "source": [
    "<div style=\"text-align: center;\">\n",
    "\n",
    "# Cloning Git Repository\n",
    "</div>\n",
    "\n",
    "\n",
    "<div style=\"display: flex;\">\n",
    "    <div style=\"flex: 50%; padding: 10px;\">\n",
    "\n",
    "In this setup, we will cover how to clone your git repository so that you can edit your code\n",
    "\n",
    "- When you clone your repository you will create a local version that only exists on your computer\n",
    "\n",
    "- In your first assignment you will learn how to update GitHub with your local changes\n",
    "\n",
    "The layout of this setup is:\n",
    "1. Setting SSH key\n",
    "2. Cloning repository\n",
    "3. Modifying Docker file\n",
    "\n",
    "    </div>\n",
    "    <div style=\"flex: 50%; padding: 10px;\">\n",
    "     <img src=\"assets/ex0-images/git-clone/clone_meme.png\">\n",
    "    </div>\n",
    "</div>\n",
    "\n",
    "---\n",
    "\n",
    "## 1. Setting SSH key\n",
    "- To be able to clone your repository, you will need an ssh key to authenticate access, similar to the previous access tokens we have setup.\n",
    "    - ssh key is a pair of cryptographic keys used for secure access and authentication\n",
    "\n",
    "- Open a terminal in your VM and run the follwoing code to generate an ssh on your computer:"
   ]
  },
  {
   "cell_type": "code",
   "execution_count": null,
   "metadata": {
    "vscode": {
     "languageId": "shellscript"
    }
   },
   "outputs": [],
   "source": [
    "ssh-keygen"
   ]
  },
  {
   "cell_type": "markdown",
   "metadata": {},
   "source": [
    "- ssh keys have a public and private pair of keys. We want the public key. To get the public key, use the following code:"
   ]
  },
  {
   "cell_type": "code",
   "execution_count": null,
   "metadata": {
    "vscode": {
     "languageId": "shellscript"
    }
   },
   "outputs": [],
   "source": [
    "cat ~/.ssh/id_rsa.pub"
   ]
  },
  {
   "cell_type": "markdown",
   "metadata": {},
   "source": [
    "- Copy this public key\n",
    "\n",
    "- Now we want to tell GitHub what this key is. Go to https://github.com/\n",
    "    - Select your icon in the top right and select settings under the dropdown\n",
    "\n",
    "![clone-1](assets/ex0-images/git-clone/clone-1.png)\n",
    "\n",
    "1. Go to the SSH and GPG keys tab\n",
    "2. Select New SSH key\n",
    "\n",
    "---\n",
    "\n",
    "![clone-2](assets/ex0-images/git-clone/clone-2.png)\n",
    "\n",
    "1. Add a title related to the device you are working on such as \"Personal Computer\"\n",
    "2. Paste the SSH public key that you copied from before\n",
    "3. Select Add SSH key\n",
    "4. In your terminal, test the ssh key running the following command. It might ask for your ssh key passphrase if you added one. If it ran successfully, it shows a message \"Hi \\<username\\>! You've ...\" \n",
    "    "
   ]
  },
  {
   "cell_type": "code",
   "execution_count": null,
   "metadata": {
    "vscode": {
     "languageId": "shellscript"
    }
   },
   "outputs": [],
   "source": [
    "ssh git@github.com "
   ]
  },
  {
   "cell_type": "markdown",
   "metadata": {},
   "source": [
    "---\n",
    "\n",
    "- Navigate to your repository for this class on https://github.com/\n",
    "\n",
    "![clone-3](assets/ex0-images/git-clone/clone-3.png)\n",
    "\n",
    "1. Select the green Code dropdown button\n",
    "2. Select SSH\n",
    "3. Copy the code\n",
    "\n",
    "---\n",
    "\n",
    "## 2. Cloning repository\n",
    "\n",
    "- Use the code below along with what you just copied to clone your repository:"
   ]
  },
  {
   "cell_type": "code",
   "execution_count": null,
   "metadata": {
    "vscode": {
     "languageId": "shellscript"
    }
   },
   "outputs": [],
   "source": [
    "git clone git@github.com:<your_username>/yourreponame-ee483"
   ]
  },
  {
   "cell_type": "markdown",
   "metadata": {},
   "source": [
    "- Replace REPO_URL with the GitHub SSH clone URL you just copied\n",
    "- This will create a clone of your repo in whatever folder you are currently in for your terminal\n",
    "\n",
    "- Now you need to set your git name and email address for your system:"
   ]
  },
  {
   "cell_type": "code",
   "execution_count": null,
   "metadata": {
    "vscode": {
     "languageId": "shellscript"
    }
   },
   "outputs": [],
   "source": [
    "git config --global user.name \"YOUR_NAME\"\n",
    "git config --global user.email \"YOUR_EMAIL\""
   ]
  },
  {
   "cell_type": "markdown",
   "metadata": {},
   "source": [
    "- Replace YOUR_NAME and YOUR_EMAIL with the name of your GitHub account and email used for your GitHub account. Leave the quotes\n",
    "\n",
    "- Next, list the current remote repository for your fork, Specify a new remote upstream repo, comfirm that new upstream was added to the list"
   ]
  },
  {
   "cell_type": "code",
   "execution_count": null,
   "metadata": {
    "vscode": {
     "languageId": "shellscript"
    }
   },
   "outputs": [],
   "source": [
    "git remote -v\n",
    "git remote add upstream https://github.com/CASA-Goes-Lab/ee483-psu-ex-base\n",
    "git remote -v"
   ]
  },
  {
   "cell_type": "markdown",
   "metadata": {},
   "source": [
    "- For every new exercise pull the upstream (Similar steps for the lab repo later on)"
   ]
  },
  {
   "cell_type": "code",
   "execution_count": null,
   "metadata": {
    "vscode": {
     "languageId": "shellscript"
    }
   },
   "outputs": [],
   "source": [
    "git pull upstream main # for exercise repo"
   ]
  },
  {
   "cell_type": "markdown",
   "metadata": {},
   "source": [
    "---\n",
    "\n",
    "## 3. Modifying Dockerfile\n",
    "\n",
    "- As a little exercise to learn how to upload local changes, we will modify the dockerfile in EX1\n",
    "\n",
    "- Navigate to the ex1-recipe in your repository by using the terminal and the `cd` command:"
   ]
  },
  {
   "cell_type": "code",
   "execution_count": null,
   "metadata": {
    "vscode": {
     "languageId": "shellscript"
    }
   },
   "outputs": [],
   "source": [
    "cd Ex1-Training/ex1/ex1-recipe"
   ]
  },
  {
   "cell_type": "markdown",
   "metadata": {},
   "source": [
    "- Open the dockerfile by using the following command:"
   ]
  },
  {
   "cell_type": "code",
   "execution_count": null,
   "metadata": {
    "vscode": {
     "languageId": "shellscript"
    }
   },
   "outputs": [],
   "source": [
    "gedit Dockerfile"
   ]
  },
  {
   "cell_type": "markdown",
   "metadata": {},
   "source": [
    "- Edit lines 2-4 in the Dockerfile to the name of your repo, description of the repository, and maintainer using your name and GitHub username\n",
    "\n",
    "\\# syntax=docker/dockerfile:1.4\n",
    "\n",
    "\\# parameters\n",
    "\n",
    "ARG EXERCISE_NAME=`\"lx-ros-basics\"` <--\n",
    "\n",
    "ARG DESCRIPTION=`\"Learning Experience about ROS (Robot Operating System)\"` <--\n",
    "\n",
    "ARG MAINTAINER=`\"Romulo Meira-Goes (romulo-goes)\"` <--\n",
    "\n",
    "- Save the file\n",
    "\n",
    "- Use the following code to see the changes we made:"
   ]
  },
  {
   "cell_type": "code",
   "execution_count": null,
   "metadata": {
    "vscode": {
     "languageId": "shellscript"
    }
   },
   "outputs": [],
   "source": [
    "git status"
   ]
  },
  {
   "cell_type": "markdown",
   "metadata": {},
   "source": [
    "- You should see that the Dockerfile has been changed\n",
    "\n",
    "- Now we need to add this file to the next commit:\n",
    "    - A commit is a snapshot of changes made to the codebase. Sort of like a record of the changes made"
   ]
  },
  {
   "cell_type": "code",
   "execution_count": null,
   "metadata": {
    "vscode": {
     "languageId": "shellscript"
    }
   },
   "outputs": [],
   "source": [
    "git add Dockerfile"
   ]
  },
  {
   "cell_type": "markdown",
   "metadata": {},
   "source": [
    "- Now we need to run the commit. Adding a message with the command `-m` helps keep track of changes as you go"
   ]
  },
  {
   "cell_type": "code",
   "execution_count": null,
   "metadata": {
    "vscode": {
     "languageId": "shellscript"
    }
   },
   "outputs": [],
   "source": [
    "git commit -m \"updated dockerfile\""
   ]
  },
  {
   "cell_type": "markdown",
   "metadata": {},
   "source": [
    "- Last step is to push the commit to GitHub using the following command:"
   ]
  },
  {
   "cell_type": "code",
   "execution_count": null,
   "metadata": {
    "vscode": {
     "languageId": "shellscript"
    }
   },
   "outputs": [],
   "source": [
    "git push"
   ]
  },
  {
   "cell_type": "markdown",
   "metadata": {},
   "source": [
    "---\n",
    "\n",
    "## 4. Visual Studio Code\n",
    "\n",
    "- Open Visual Studio Code (You might need to install it) - https://code.visualstudio.com/\n",
    "\n",
    "- Go in `File->Open Folder...` and select your repo folder. If you have cloned it to `~`, it should be `~/ee483-psu-ex-<yourname>`\n",
    "- Next save this as a `Workspace`, `File->Save Workspace As` in your repo folder\n",
    "- In Visual Studio Code you can open terminals by going in `Terminal->New Terminal` or `Ctrl+Shift+\\` `\n",
    "- Use the VSCode environment to develop your homework. On the left of it, you will see all the folders in your repo.\n",
    "- For example in `Ex0-Setup`, all instructions we have followed so far are available as Markdown (.md) files or Jupyter Notebook (.ipynb) files - 01_github_setup, 02_pc_setup, 03_ubuntu_windows, 04_clone_repository.\n",
    "- Your next task is to follow the instructions in `05_duckietown_docker_setup.ipynb`\n",
    "- Open that file, and follow the instructions there about installing the necessary software for this class. \n",
    "\n",
    "<img src=\"assets/ex0-images/git-clone/almost-there-meme.jpeg\" style=\"width: 50%; height: auto;\">\n",
    "\n"
   ]
  }
 ],
 "metadata": {
  "language_info": {
   "name": "python"
  }
 },
 "nbformat": 4,
 "nbformat_minor": 2
}
