{
 "cells": [
  {
   "cell_type": "markdown",
   "metadata": {},
   "source": [
    "<div style=\"text-align: center;\">\n",
    "\n",
    "# Personal PC Setup\n",
    "\n",
    "## Introduction\n",
    "</div>\n",
    "\n",
    "\n",
    "In this class we will explore the world of robotics in a hands-on and interactive environment. You will get to program and experiment with small scale robotics and experience what it is like to design your own robot. However, in order for us to dive into the robotics world, we need to install the tools that will get you through the course. Here’s a quick breakdown of what we will be setting up:\n",
    "\n",
    "- **Linux Virtual Machine (VM)**\n",
    "\n",
    "  - In robotics, Linux is often the operating system of choice for its open-source nature and accommodation for development workspaces\n",
    "  \n",
    "  - A virtual machine is a software-based simulation of a physical computer on your own computer. This means you will be running a computer within your own computer\n",
    "  \n",
    "  - We will use Ubuntu (a Linux variant) which is a free open source operating system\n",
    "\n",
    "\n",
    "    <img src=\"assets/ex0-images/ubuntu-windows/ubuntu-logo.png\" style=\"width: 20%; height: auto;\">\n",
    "\n",
    "  \n",
    "  - If you already have a Linux machine then you will not need to install a VM\n",
    "\n",
    "- **Duckietown**\n",
    "\n",
    "  - Duckietown is the environment we will be using to program our robots\n",
    "\n",
    "- **Github**\n",
    "\n",
    "  - Github is the standard for sharing code and collaboration. This will be how you submit your code for assignments\n",
    "\n",
    "- **Docker**\n",
    "\n",
    "  - Docker will allow you to package your applications and dependencies into isolated containers, providing a consistent environment for development, testing, and development. We will go into more detail in the next lesson.\n"
   ]
  }
 ],
 "metadata": {
  "language_info": {
   "name": "python"
  }
 },
 "nbformat": 4,
 "nbformat_minor": 2
}
