{
 "cells": [
  {
   "cell_type": "markdown",
   "metadata": {},
   "source": [
    "<div style=\"text-align: center;\">\n",
    "\n",
    "# Github Setup\n",
    "\n",
    "</div>\n",
    "Your git repository will be where you manage your files and submit homeworks/labs for this class.\n",
    "\n",
    "- In this setup, it will cover:\n",
    "  1. Create a github account\n",
    "  2. Fork class repository template to your github\n",
    "  3. Share repository with instructor\n",
    "\n",
    "- We will cover in a later section how to clone your git repository to your personal computer/VM so you can make changes to your repository"
   ]
  },
  {
   "cell_type": "markdown",
   "metadata": {},
   "source": [
    "---\n",
    "\n",
    "## 1. Create a github account\n",
    "\n",
    "- **Note:** If you already have a github account, you can skip to step 2\n",
    "- Go to github.com\n",
    "\n",
    "![account-1](assets/ex0-images/github/account-1.png)\n",
    "- Select sign up\n",
    "\n",
    "---\n",
    "\n",
    "![account-2](assets/ex0-images/github/account-2.png)\n",
    "- Enter your school email address\n",
    "- Choose a password you can remember\n",
    "- Create a username\n",
    "- Hit continue and follow instructions\n",
    "- Now you have a github account!\n",
    "\n"
   ]
  },
  {
   "cell_type": "markdown",
   "metadata": {},
   "source": [
    "---\n",
    "\n",
    "## 2. Clone class repository template and set up template\n",
    "\n",
    "- Go to the class repository template - https://github.com/CASA-Goes-Lab/ee483-psu-ex-base\n",
    "\n",
    "![account-1](assets/ex0-images/github/git-ex-repo.png)\n",
    "--Something like the image above. The files in the image might differ a bit from the current repo.\n",
    "\n",
    "- Copy the template to your repo\n",
    "\n",
    "<br><img src=\"assets/ex0-images/github/git-ex-repo-copy-template.png\" style=\"width: 75%; height: auto;\"></br>\n",
    "\n",
    "<br><img src=\"assets/ex0-images/github/git-ex-repo-copy-template2.png\" style=\"width: 75%; height: auto;\"></br>\n",
    "\n",
    "- Create your repository name as `<your_username>/<your_name>-ee483`\n",
    "  - **Important:** Only use lowercase letters, numbers, and dashes when creating the name. \n",
    "  - No spaces or special characters like &,#,etc\n",
    "- Select the private repository option\n",
    "\n",
    "<br><img src=\"assets/ex0-images/github/git-ex-repo-copy-template3.png\" style=\"width: 75%; height: auto;\"></br>\n"
   ]
  },
  {
   "cell_type": "markdown",
   "metadata": {},
   "source": [
    "---\n",
    "\n",
    "## 3. Share repository with instructor\n",
    "\n",
    "- Share your repo with Instructor, TA, and LA\n",
    "\t- Seetings-> Collaborators->Add People - romulo-goes, AdamDony, CollinRoss21 \n"
   ]
  }
 ],
 "metadata": {
  "language_info": {
   "name": "python"
  }
 },
 "nbformat": 4,
 "nbformat_minor": 2
}
