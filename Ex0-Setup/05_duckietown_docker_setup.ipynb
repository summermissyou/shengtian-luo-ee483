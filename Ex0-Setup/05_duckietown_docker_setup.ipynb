{
 "cells": [
  {
   "cell_type": "markdown",
   "metadata": {},
   "source": [
    "\n",
    "\n",
    "\n",
    "- You did it! We reached the last set of setup instructions. We are almost there to start our robotics journey!  \n",
    "\n",
    "<!-- <div style=\"display: flex;flex: 50%;\"> -->\n",
    "<img src=\"assets/ex0-images/duckie-docker/congrats-meme.jpg\" style=\"width: 39%; height: auto;\">\n",
    "<img src=\"assets/ex0-images/duckie-docker/meme-treatyoself.png\" style=\"width: 40%; height: auto;\">\n",
    "\n",
    "\n",
    "<div style=\"text-align: center;\">\n",
    "\n",
    "# Duckietown and Docker Setup\n",
    "\n",
    "</div>\n",
    "\n",
    "<div style=\"display: flex;\">\n",
    "<div style=\"flex: 50%; padding: 10px;\">\n",
    "\n",
    "In this class, we will be using duckiebot to test our robotics knowledge and apply what we learn in class to the real world.\n",
    "\n",
    "- In this setup, it will cover:\n",
    "  - Installations\n",
    "    1. Dependency installation\n",
    "    2. Docker installation\n",
    "    3. Duckietown shell installation\n",
    "  - Account setups\n",
    "    1. Duckietown account setup\n",
    "    2. Docker account setup\n",
    "\n",
    "- **Tip:** When copying and pasting code into the terminal:\n",
    "  - To paste into the terminal use CTRL+SHIFT+V\n",
    "  - To copy in a terminal use CTRL+SHIFT+C\n",
    "\n",
    "- This notebook follows the instructions on the duckietown website here: https://docs.duckietown.com/daffy/opmanual-duckiebot/setup/setup_laptop/index.html\n",
    "    </div>\n",
    "    <div style=\"flex: 50%; padding: 10px;\">\n",
    "<img src=\"assets/ex0-images/duckie-docker/duckietown-logo.png\" style=\"width: 50%; height: auto;\">\n",
    "     \n",
    "<br><img src=\"assets/ex0-images/duckie-docker/docker-meme.png\" style=\"width: 30%; height: auto;\"></br>\n",
    "    </div>\n",
    "</div>\n",
    "</div>\n"
   ]
  },
  {
   "cell_type": "markdown",
   "metadata": {},
   "source": [
    "---\n",
    "## Installations\n",
    "\n",
    "### 1. Dependency installation\n",
    "- Dependencies are references to external resources or other pieces of code that your program relies on to function correctly\n",
    "\n",
    "- We will start with installing development tools\n",
    "  - These tools are pip3, git, git-lfs, curl, and wget\n",
    "- You can either use the Visual Studio terminal or the terminal application to run the following code\n",
    "\n",
    "- Run the code below in your terminal to install the basic development tools:\n"
   ]
  },
  {
   "cell_type": "code",
   "execution_count": null,
   "metadata": {
    "vscode": {
     "languageId": "shellscript"
    }
   },
   "outputs": [],
   "source": [
    "sudo apt update\n",
    "sudo apt install -y python3-pip git git-lfs curl wget"
   ]
  },
  {
   "cell_type": "markdown",
   "metadata": {
    "vscode": {
     "languageId": "plaintext"
    }
   },
   "source": [
    "- **Note:** If when running a command with sudo and you get the error: \"[user] is not in the sudoers file\", do the following:\n",
    "  - Type `su -` into the terminal. Log in with the password you created when installing Ubuntu\n",
    "  - Type `sudo adduser [your username] sudo` to give your user access to sudo. Username is the one you created when installing Ubuntu\n",
    "  - Restart your computer or VM\n",
    "\n",
    "**If you are running Ubuntu on a virtual machine,** install the open-vm-tools package by running the following code:"
   ]
  },
  {
   "cell_type": "code",
   "execution_count": null,
   "metadata": {
    "vscode": {
     "languageId": "shellscript"
    }
   },
   "outputs": [],
   "source": [
    "sudo apt install open-vm-tools"
   ]
  },
  {
   "cell_type": "markdown",
   "metadata": {},
   "source": [
    "---\n",
    "### *Checkpoint*\n",
    "\n",
    "- Run the following test command to check that the previous installations were successful:"
   ]
  },
  {
   "cell_type": "code",
   "execution_count": null,
   "metadata": {
    "vscode": {
     "languageId": "shellscript"
    }
   },
   "outputs": [],
   "source": [
    "pip3 --version"
   ]
  },
  {
   "cell_type": "markdown",
   "metadata": {},
   "source": [
    "- **Output:** This command should output a version number for the pip3 package. If it does, you can move on! If not, try the installations again."
   ]
  },
  {
   "cell_type": "markdown",
   "metadata": {},
   "source": [
    "---\n",
    "## 2. Docker installation\n",
    "\n",
    "- To make sure there are no older versions of Docker on your system, run the code:"
   ]
  },
  {
   "cell_type": "code",
   "execution_count": null,
   "metadata": {
    "vscode": {
     "languageId": "shellscript"
    }
   },
   "outputs": [],
   "source": [
    "sudo apt-get remove docker docker-engine docker.io containerd runc"
   ]
  },
  {
   "cell_type": "markdown",
   "metadata": {},
   "source": [
    "- Now you can set up the apt (Advanced Package Tool) repository that will contain Docker"
   ]
  },
  {
   "cell_type": "code",
   "execution_count": null,
   "metadata": {
    "vscode": {
     "languageId": "shellscript"
    }
   },
   "outputs": [],
   "source": [
    "sudo apt-get update\n",
    "sudo apt-get install \\\n",
    "    ca-certificates \\\n",
    "    curl \\\n",
    "    gnupg"
   ]
  },
  {
   "cell_type": "markdown",
   "metadata": {},
   "source": [
    "- Add the official GPG key\n",
    "  - This will prepare the system for securely downloading and verifying packages from the Docker repository"
   ]
  },
  {
   "cell_type": "code",
   "execution_count": null,
   "metadata": {
    "vscode": {
     "languageId": "shellscript"
    }
   },
   "outputs": [],
   "source": [
    "sudo mkdir -m 0755 -p /etc/apt/keyrings\n",
    "curl -fsSL https://download.docker.com/linux/ubuntu/gpg | sudo gpg --dearmor -o /etc/apt/keyrings/docker.gpg"
   ]
  },
  {
   "cell_type": "markdown",
   "metadata": {},
   "source": [
    "- **Note:** If you get the error, \"curl: (6) Could not resolve host: download.docker.com\", this is because you need to be using the NAT network adapter on your VM. Change this by going to the network settings in VirtualBox and swtiching the network adapter to NAT. Reference \"pc setup\" notebook if you cannot find the settings.\n",
    "\n",
    "- Set up the repository with the following code:"
   ]
  },
  {
   "cell_type": "code",
   "execution_count": null,
   "metadata": {
    "vscode": {
     "languageId": "shellscript"
    }
   },
   "outputs": [],
   "source": [
    "echo \\\n",
    "  \"deb [arch=\"$(dpkg --print-architecture)\" signed-by=/etc/apt/keyrings/docker.gpg] https://download.docker.com/linux/ubuntu \\\n",
    "  \"$(. /etc/os-release && echo \"$VERSION_CODENAME\")\" stable\" | \\\n",
    "  sudo tee /etc/apt/sources.list.d/docker.list > /dev/null"
   ]
  },
  {
   "cell_type": "markdown",
   "metadata": {},
   "source": [
    "- Finally, update again and install Docker Engine and Docker Compose:"
   ]
  },
  {
   "cell_type": "code",
   "execution_count": null,
   "metadata": {
    "vscode": {
     "languageId": "shellscript"
    }
   },
   "outputs": [],
   "source": [
    "sudo apt-get update\n",
    "sudo apt-get install docker-ce docker-ce-cli containerd.io docker-buildx-plugin docker-compose-plugin\n",
    "sudo apt-get install docker-compose"
   ]
  },
  {
   "cell_type": "markdown",
   "metadata": {},
   "source": [
    "- Add the user \"docker\" to your user group, then log out and back in:"
   ]
  },
  {
   "cell_type": "code",
   "execution_count": null,
   "metadata": {
    "vscode": {
     "languageId": "shellscript"
    }
   },
   "outputs": [],
   "source": [
    "sudo adduser `whoami` docker"
   ]
  },
  {
   "cell_type": "markdown",
   "metadata": {},
   "source": [
    "- **Restart** your computer or VM for the sudo change to take effect\n",
    "\n",
    "---\n",
    "\n",
    "### *Checkpoint*\n",
    "\n",
    "- Run the following code to ensure Docker was installed correctly:\n"
   ]
  },
  {
   "cell_type": "code",
   "execution_count": null,
   "metadata": {
    "vscode": {
     "languageId": "shellscript"
    }
   },
   "outputs": [],
   "source": [
    "docker --version\n",
    "docker buildx version"
   ]
  },
  {
   "cell_type": "markdown",
   "metadata": {},
   "source": [
    "- **Output:** Make sure the Docker version is v1.4.0+ and buildx version v.0.8.0+\n",
    "\n",
    "---\n",
    "\n",
    "- Try running a test docker image by running the following:"
   ]
  },
  {
   "cell_type": "code",
   "execution_count": null,
   "metadata": {
    "vscode": {
     "languageId": "shellscript"
    }
   },
   "outputs": [],
   "source": [
    "docker run hello-world"
   ]
  },
  {
   "cell_type": "markdown",
   "metadata": {},
   "source": [
    "- **Output:** You should see a message saying like Hello from Docker!\n",
    "\n",
    "![docker-test](assets/ex0-images/duckie-docker/docker-test.png)\n",
    "\n",
    "- **Note:** If you get permission denied, restart you VM or computer so the previous sudo command can take effect"
   ]
  },
  {
   "cell_type": "markdown",
   "metadata": {},
   "source": [
    "---\n",
    "\n",
    "### 3. Duckietown shell installation\n",
    "\n",
    "- Duckietown Shell is a command-line interface (CLI) program that provides all of the necessary Duckietown operations, such as\n",
    "  - Updating a Duckiebot\n",
    "  - Driving a Duckiebot with a virtual keyboard\n",
    "  - Viewing the camera stream of a Duckiebot from a graphical app\n",
    "  - Using our learning experiences\n",
    "  - (and more!)\n",
    "\n",
    "- To install the dts (Duckietown Shell), use the following command:"
   ]
  },
  {
   "cell_type": "code",
   "execution_count": null,
   "metadata": {
    "vscode": {
     "languageId": "shellscript"
    }
   },
   "outputs": [],
   "source": [
    "pip3 install --no-cache-dir --user --upgrade duckietown-shell"
   ]
  },
  {
   "cell_type": "markdown",
   "metadata": {},
   "source": [
    "- In order for your system to find local binaries, add the following to your .bashrc file:\n",
    "\n",
    "    - A .bashrc file contains the configuration for your shell environment"
   ]
  },
  {
   "cell_type": "code",
   "execution_count": null,
   "metadata": {
    "vscode": {
     "languageId": "shellscript"
    }
   },
   "outputs": [],
   "source": [
    "export PATH=~/.local/bin:${PATH}"
   ]
  },
  {
   "cell_type": "markdown",
   "metadata": {},
   "source": [
    "- To source the updates to your current shell:"
   ]
  },
  {
   "cell_type": "code",
   "execution_count": null,
   "metadata": {
    "vscode": {
     "languageId": "shellscript"
    }
   },
   "outputs": [],
   "source": [
    "source ~/.bashrc"
   ]
  },
  {
   "cell_type": "markdown",
   "metadata": {},
   "source": [
    "---\n",
    "\n",
    "### *Checkpoint*\n",
    "\n",
    "- Run the following code to confirm dts was installed successfully:"
   ]
  },
  {
   "cell_type": "code",
   "execution_count": null,
   "metadata": {
    "vscode": {
     "languageId": "shellscript"
    }
   },
   "outputs": [],
   "source": [
    "which dts"
   ]
  },
  {
   "cell_type": "markdown",
   "metadata": {},
   "source": [
    "**Output:** Should output a path ending in dts"
   ]
  },
  {
   "cell_type": "markdown",
   "metadata": {},
   "source": [
    "---\n",
    "\n",
    "## Account Setups\n",
    "\n",
    "### 1. Duckietown Account Setup\n",
    "\n",
    "- First, we will need a Duckietown account on the Duckietown website\n",
    "\n",
    "- Go to: https://duckietown.com/\n",
    "\n",
    "![acc-1](assets/ex0-images/duckie-docker/acc-1.png)\n",
    "\n",
    "- Select the Sign Up option under the account dropdown\n",
    "\n",
    "---\n",
    "\n",
    "![acc-2](assets/ex0-images/duckie-docker/acc-2.png)\n",
    "\n",
    "- Select the Sign up with GitHub option and use your GitHub account\n",
    "\n",
    "---\n",
    "\n",
    "- The Duckietown Shell has different software distributions. The one we want to use is called daffy. To use daffy, run the following code in your terminal:"
   ]
  },
  {
   "cell_type": "code",
   "execution_count": null,
   "metadata": {
    "vscode": {
     "languageId": "shellscript"
    }
   },
   "outputs": [],
   "source": [
    "dts profile switch daffy"
   ]
  },
  {
   "cell_type": "markdown",
   "metadata": {},
   "source": [
    "- Now we need a Duckietown token to authenticate yourself and your robots against the Duckietown network\n",
    "\n",
    "- Every Duckietown account has a specific token that looks like this\n",
    "    - dt1-\\<a bunch of letters and numbers\\>\n",
    "\n",
    "- To find your token, go to: https://hub.duckietown.com/profile/\n",
    "\n",
    "![acc-3](assets/ex0-images/duckie-docker/acc-3.png)\n",
    "\n",
    "- We want a dt1 token instead of the dt2 token given to you as default. To change this, select the generate option that looks like a lightning bolt.\n",
    "\n",
    "  - We need dt1 to enable simulation tools that we will use in this course\n",
    "\n",
    "---\n",
    "\n",
    "![dt1token-1](assets/ex0-images/duckie-docker/dt1token-1.png)\n",
    "\n",
    "  1. Select the dt1 option\n",
    "\n",
    "  2. Select ~150 days for token length\n",
    "\n",
    "  3. Select Generate token\n",
    "\n",
    "---\n",
    "![dt1token-2](assets/ex0-images/duckie-docker/dt1token-2.png)\n",
    "\n",
    "- Scroll down to see the generated token and copy it by selecting all of it and pressing CTRL+C\n",
    "\n",
    "---\n",
    "\n",
    "- To set your token in your dts, use the following code:"
   ]
  },
  {
   "cell_type": "code",
   "execution_count": null,
   "metadata": {
    "vscode": {
     "languageId": "shellscript"
    }
   },
   "outputs": [],
   "source": [
    "dts tok set"
   ]
  },
  {
   "cell_type": "markdown",
   "metadata": {},
   "source": [
    "- Follow the instructions after running it\n",
    "\n",
    "---\n",
    "\n",
    "### *Checkpoint*\n",
    "\n",
    "- To see if dts was installed correctly, use the code:"
   ]
  },
  {
   "cell_type": "code",
   "execution_count": null,
   "metadata": {
    "vscode": {
     "languageId": "shellscript"
    }
   },
   "outputs": [],
   "source": [
    "dts version"
   ]
  },
  {
   "cell_type": "markdown",
   "metadata": {},
   "source": [
    "- **Output:** The version of the command should be set to `daffy`\n",
    "---\n",
    "- Check if your token was changed successfully by running:"
   ]
  },
  {
   "cell_type": "code",
   "execution_count": null,
   "metadata": {
    "vscode": {
     "languageId": "shellscript"
    }
   },
   "outputs": [],
   "source": [
    "dts tok status"
   ]
  },
  {
   "cell_type": "markdown",
   "metadata": {},
   "source": [
    "- **Output:** A message should appear like the following:\n",
    "    - dts :  Correctly identified as uid = ***\n",
    "\n",
    "---\n",
    "\n",
    "### 2. Docker Account Setup\n",
    "\n",
    "- Docker is used in most procedures for dts because Duckietown leverages containerization to ensure software portability and reproducibility\n",
    "\n",
    "- In order for Docker to work with dts, we need to start with making a Docker account\n",
    "\n",
    "- Go to the Docker website: https://www.docker.com/\n",
    "\n",
    "![acc-4](assets/ex0-images/duckie-docker/acc-4.png)\n",
    "\n",
    "- Select Sign In\n",
    "\n",
    "---\n",
    "![acc-5](assets/ex0-images/duckie-docker/acc-5.png)\n",
    "\n",
    "- Select Sign Up\n",
    "\n",
    "---\n",
    "![acc-6](assets/ex0-images/duckie-docker/acc-6.png)\n",
    "\n",
    "- Select Continue with GitHub and sign in with your GitHub\n",
    "---\n",
    "\n",
    "- Now we have to make a Docker token. This is similar to the Duckietown token as it allows dts to access your Docker by authenicating yourself to Docker\n",
    "\n",
    "![acc-7](assets/ex0-images/duckie-docker/acc-7.png)\n",
    "- Go to docker.com and Sign In if you are not already\n",
    "\n",
    "1. Select your profile icon on the top right of the website\n",
    "\n",
    "2. Click Account settings\n",
    "\n",
    "---\n",
    "\n",
    "![acc-8](assets/ex0-images/duckie-docker/acc-8.png)\n",
    "\n",
    "- Scroll down until you see Personal access tokens and click on it\n",
    "\n",
    "- You should have zero access tokens at this moment\n",
    "---\n",
    "\n",
    "![acc-9](assets/ex0-images/duckie-docker/acc-9.png)\n",
    "\n",
    "- Select Generate new token\n",
    "\n",
    "---\n",
    "\n",
    "![acc-10](assets/ex0-images/duckie-docker/acc-10.png)\n",
    "\n",
    "- Change the Access token description to a relevant name like \"Duckietown Access\"\n",
    "\n",
    "- Change the Access permissions to Read, Write, Delete\n",
    "\n",
    "---\n",
    "\n",
    "![acc-11](assets/ex0-images/duckie-docker/acc-11.png)\n",
    "\n",
    "- Select Generate after you change the name and permissions\n",
    "\n",
    "---\n",
    "\n",
    "![acc-12](assets/ex0-images/duckie-docker/acc-12.png)\n",
    "\n",
    "- **Important:** You will only be able to see the access token once. After you exit out of this window you will not be able to access it again.\n",
    "    - **Note:** You can always create a new access token if you lose these credentials\n",
    "- Save these credentials somewhere you can access them. I recommend using something like a google doc to put this information in.\n",
    "\n",
    "---\n",
    "### *Checkpoint*\n",
    "\n",
    "- Log in to docker through your terminal by using the following command:"
   ]
  },
  {
   "cell_type": "code",
   "execution_count": null,
   "metadata": {
    "vscode": {
     "languageId": "shellscript"
    }
   },
   "outputs": [],
   "source": [
    "docker login -u DOCKER_USERNAME"
   ]
  },
  {
   "cell_type": "markdown",
   "metadata": {},
   "source": [
    "- Change the DOCKER_USERNAME to your Docker username\n",
    "    - This is the found in the first line you copied under \"1. Run\" from the access token\n",
    "\n",
    "- When you press enter, it will prompt you to put your password in. This is the personal access token you copied under \"2.\". Copy and paste it into the terminal. The password will not appear when you paste it but it is there.\n",
    "\n",
    "- **Output:** At the bottom there should be a line that says Login Succeeded. If you do not get this prompt, try making the access token again and repeating the steps.\n",
    "\n",
    "---\n",
    "\n",
    "- Loging in every time we open our shell is a hassle. Luckily we only need to set our Docker credentials once for dts\n",
    "- Use the following command to change your dts Docker credentials:"
   ]
  },
  {
   "cell_type": "code",
   "execution_count": null,
   "metadata": {
    "vscode": {
     "languageId": "shellscript"
    }
   },
   "outputs": [],
   "source": [
    "dts config docker credentials set --username DOCKERHUB_USERNAME --password DOCKERHUB_ACCESS_TOKEN"
   ]
  },
  {
   "cell_type": "markdown",
   "metadata": {},
   "source": [
    "- Change the DOCKERHUB_USERNAME to the same one as in the previous step\n",
    "- Change the DOCKERHUB_ACCESS_TOKEN to the access token from the previous step\n",
    "\n",
    "---\n",
    "### *Checkpoint*\n",
    "\n",
    "- To check your Docker login credentials, run the following code:"
   ]
  },
  {
   "cell_type": "code",
   "execution_count": null,
   "metadata": {
    "vscode": {
     "languageId": "shellscript"
    }
   },
   "outputs": [],
   "source": [
    "dts config docker credentials info"
   ]
  },
  {
   "cell_type": "markdown",
   "metadata": {},
   "source": [
    "- **Output:** You should see an output similar to\n",
    "\n",
    "Docker credentials:\n",
    "\n",
    ". registry:   docker.io\n",
    "\n",
    ". username:   DOCKERHUB_USERNAME\n",
    "\n",
    ". secret:   DOCKERHUB_ACCESS_TOKEN\n",
    "\n",
    "---\n",
    "\n",
    "<img src=\"assets/ex0-images/duckie-docker/all-done-meme.jpg\" style=\"width: 40%; height: auto;\">"
   ]
  }
 ],
 "metadata": {
  "language_info": {
   "name": "python"
  }
 },
 "nbformat": 4,
 "nbformat_minor": 2
}
