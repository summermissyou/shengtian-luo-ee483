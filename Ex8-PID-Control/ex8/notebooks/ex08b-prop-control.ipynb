{
 "cells": [
  {
   "cell_type": "markdown",
   "metadata": {},
   "source": [
    "<div style=\"text-align: center;\">\n",
    "\n",
    "<h1 style= \"color:yellowgreen\">Proportional Controller\n",
    "</h1>\n",
    "\n",
    "</div>\n",
    "\n",
    "<h2 style= \"color:coral\"> Proportional controllers</h2>\n",
    "\n",
    "- Uses a proportional constant times the error as a control signal.  \n",
    "$$control\\_signal = constant * (desired\\_temp - current\\_temp)$$\n",
    "- Need to tune this constant\n",
    "\n",
    "MM Example: MM moves straight forward and need to stop at a red line.  \n",
    "With proportional controller, it will:\n",
    "- Drive straight at a speed proportional to the distance from the line\n",
    "- Tune the constant until results are acceptable \n",
    "\n",
    "$$control\\_signal = constant*error$$\n",
    "Where $error$ is the distance left to reach the red line. \n",
    "\n",
    "Let us check a proportional controller with real values:\n",
    "\n",
    "$$constant = 0.5$$\n",
    "and the start distance is $1$ meter\n",
    "$$distance = 1 m$$\n",
    "\n",
    "- $1$ m away\n",
    "<br><img src=\"../assets/ex8-imgs/prop-1m.png\" style=\"width: 30%; height: auto;\"></br>\n",
    "\n",
    "$$vel = constant * distance = 0.5$$\n",
    "\n",
    "- $0.5$ m away\n",
    "<br><img src=\"../assets/ex8-imgs/prop-05m.png\" style=\"width: 30%; height: auto;\"></br>\n",
    "\n",
    "$$vel  = constant * distance = 0.25$$\n",
    "\n",
    "- $0.1$ m away\n",
    "<br><img src=\"../assets/ex8-imgs/prop-01m.png\" style=\"width: 30%; height: auto;\"></br>\n",
    "\n",
    "$$vel  = constant * distance = 0.05$$\n",
    "\n",
    "- $0$ m away\n",
    "<br><img src=\"../assets/ex8-imgs/prop-0m.png\" style=\"width: 30%; height: auto;\"></br>\n",
    "\n",
    "$$vel  = constant * distance = 0$$\n",
    "\n",
    "- $-0.1$ m away\n",
    "<br><img src=\"../assets/ex8-imgs/prop--01m.png\" style=\"width: 30%; height: auto;\"></br>\n",
    "\n",
    "$$vel  = constant * distance = -0.05$$\n",
    "\n",
    "<h2 style= \"color:coral\"> Problems of only proportional controllers</h2>\n",
    "\n",
    "- Works great when everything goes as planned\n",
    "<br><img src=\"../assets/ex8-imgs/prop-flat.png\" style=\"width: 50%; height: auto;\"></br>\n",
    "\n",
    "- Might not overcome unplanned disturbances (Inclined plane)\n",
    "<br><img src=\"../assets/ex8-imgs/prop-incline.png\" style=\"width: 50%; height: auto;\"></br>\n",
    "\n",
    "**Small control input will not overcome force of incline. MM will never quite get to 1m!**\n",
    "\n",
    "- We can tune the constant for the incline\n",
    "<br><img src=\"../assets/ex8-imgs/prop-incline-tune.png\" style=\"width: 50%; height: auto;\"></br>\n",
    "\n",
    "**It will work now after tuning**  \n",
    "- What if the road has various slopes or other forces such as strong winds?\n",
    "<br><img src=\"../assets/ex8-imgs/prop-incline-vary.png\" style=\"width: 50%; height: auto;\"></br>\n",
    "\n",
    "**We need more parameters to tune to make this work with more uncertainty**\n",
    "\n",
    "In the next notebook, we will introduce PID controllers - Proportional, Integral, and Derivative Controllers.   \n",
    "We have three different parameters to tune. "
   ]
  },
  {
   "cell_type": "markdown",
   "metadata": {},
   "source": [
    "<h6><p style=\"text-align: center;\">\n",
    "<strong>Disclaimer:</strong>\n",
    "This tutorial is an adaptation of the Prof. Robinette's EECE5560 UMass Lowell class and <strong> <a href=\"https://app.hubspot.com/documents/8795519/view/717879114?accessId=84112c\">Duckietown materials</a></strong>\n",
    "</p></h6>"
   ]
  }
 ],
 "metadata": {
  "kernelspec": {
   "display_name": "Python 3.8.10 64-bit",
   "language": "python",
   "name": "python3"
  },
  "language_info": {
   "codemirror_mode": {
    "name": "ipython",
    "version": 2
   },
   "file_extension": ".py",
   "mimetype": "text/x-python",
   "name": "python",
   "nbconvert_exporter": "python",
   "pygments_lexer": "ipython2",
   "version": "3.8.10"
  },
  "vscode": {
   "interpreter": {
    "hash": "916dbcbb3f70747c44a77c7bcd40155683ae19c65e1c03b4aa3499c5328201f1"
   }
  }
 },
 "nbformat": 4,
 "nbformat_minor": 0
}
