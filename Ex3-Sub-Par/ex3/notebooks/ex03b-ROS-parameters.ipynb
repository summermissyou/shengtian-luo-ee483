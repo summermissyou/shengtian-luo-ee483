{
    "cells": [
        {
            "cell_type": "markdown",
            "metadata": {},
            "source": [
                "<div style=\"text-align: center;\">\n",
                "\n",
                "<h1 style= \"color:yellowgreen\">Creating ROS parameters\n",
                "</h1>\n",
                "\n",
                "</div>\n",
                "\n",
                "\n",
                "<h2 style= \"color:coral\"> ROS parameter\n",
                "</h2>\n",
                "A ROS parameter is typically used to set configuration values that control various aspects of nodes that need to be adjusted without modifiyng the code itself. They are similar to global variables that you use when coding in other languages.\n",
                "There are 4 properties of ROS parameters:\n",
                "\n",
                "1. Persistent - exists regardless of which node is running\n",
                "2. Mutable - any node can change any parameter\n",
                "3. Inspectable - any node can read any parameter\n",
                "4. Addressable - if you know the *name* of the parameter you can access its current *value*\n",
                "\n",
                "The parameter you create for this assignment will be accessed by both of your nodes. One will change the value of the parameter and the other will read the value of the parameter.\n",
                "\n",
                "#### ROS Parameter Server\n",
                "\n",
                "- ROS keeps track of several parameters (in the Parameter Server) that can be useful for your nodes\n",
                "\n",
                "- They are stored in a database as a **key/value pair** and persist as long as ROS master is running\n",
                "\n",
                "- These can be used to:\n",
                "  - Initialize modes in nodes\n",
                "  - Set topic/service names to use in your node (sometimes easier than remaps)\n",
                "  - Set gains for control system\n",
                "  - Set other tuning parameters for sensing systems\n",
                "\n",
                "The diagram below shows the dynamic of the ROS parameter server with your nodes for this exercise\n",
                "<br><img src=\"../assets/param_diagram.png\" style=\"width: 50%; height: auto;\"></br>\n",
                "\n",
                "#### ROS parameter types\n",
                "These are the following different types of parameters:\n",
                "- strings\n",
                "- integers\n",
                "- floats\n",
                "- booleans\n",
                "- lists\n",
                "- dictionaries (must have string keys)\n",
                "- iso8601 dates\n",
                "- base64-encoded data\n"
            ]
        },
        {
            "cell_type": "markdown",
            "metadata": {},
            "source": [
                "\n",
                "<h2 style= \"color:coral\"> Setting parameters in launch file\n",
                "</h2>\n",
                "\n",
                "In order to access a parameter in your nodes, you will need to initialize it in your launch file. The following code is an example of how to launch a parameter:\n"
            ]
        },
        {
            "cell_type": "code",
            "execution_count": null,
            "metadata": {
                "vscode": {
                    "languageId": "xml"
                }
            },
            "outputs": [],
            "source": [
                "<launch>\n",
                "\n",
                "<param name=\"publish_frequency\" type= \"double\" value= \"10.0\"/>\n",
                "<!-- Initializes parameter in launch file-->\n",
                "</launch>"
            ]
        },
        {
            "cell_type": "markdown",
            "metadata": {},
            "source": [
                "The basics of \\<param> tags are:\n",
                "- Allows setting parameters one at a time\n",
                "- Contains three critical fields:\n",
                "  - name: the name of the parameter. Note that namespaces apply.\n",
                "  - type: optional parameter to set the type of the parameter. If not used, ROS will try to detemine the type\n",
                "  - value: the initial value of the parameter"
            ]
        },
        {
            "cell_type": "markdown",
            "metadata": {},
            "source": [
                "\n",
                "<h2 style= \"color:coral\"> Configuring a parameter with a node\n",
                "</h2>\n",
                "\n",
                "Now that you have the parameter initialized in your launch file, you can access it in your nodes.\n",
                "\n",
                "The following commands are used to get parameters in your code:\n",
                "\n",
                "Check if the parameter exists first"
            ]
        },
        {
            "cell_type": "code",
            "execution_count": null,
            "metadata": {
                "vscode": {
                    "languageId": "xml"
                }
            },
            "outputs": [],
            "source": [
                "rospy.has_param(<PARAM_NAME>)"
            ]
        },
        {
            "cell_type": "markdown",
            "metadata": {},
            "source": [
                "Get the parameter vaule"
            ]
        },
        {
            "cell_type": "code",
            "execution_count": null,
            "metadata": {
                "vscode": {
                    "languageId": "xml"
                }
            },
            "outputs": [],
            "source": [
                "rospy.get_param(\"<PARAM_NAME>\")"
            ]
        },
        {
            "cell_type": "markdown",
            "metadata": {},
            "source": [
                "Set the parameter value"
            ]
        },
        {
            "cell_type": "code",
            "execution_count": null,
            "metadata": {
                "vscode": {
                    "languageId": "xml"
                }
            },
            "outputs": [],
            "source": [
                "rospy.set_param(\"<PARAM_NAME>\", <value>)"
            ]
        },
        {
            "cell_type": "markdown",
            "metadata": {
                "vscode": {
                    "languageId": "xml"
                }
            },
            "source": [
                "**NOTE:** the name is always a string\n",
                "\n",
                "Namespaces work exactly the same as in topics\n",
                "\n",
                "#### Getting parameters in your code example"
            ]
        },
        {
            "cell_type": "code",
            "execution_count": null,
            "metadata": {},
            "outputs": [],
            "source": [
                "if rospy.has_param(\"mode\"): # Check if parameter \"mode\" exists first\n",
                "    self.foo = rospy.get_param(\"mode\") #Get the values of \"mode\" and store it in self.foo\n",
                "else:\n",
                "    self.foo = \"default\" # If there is no parameter \"mode\" we need an alternate plan"
            ]
        },
        {
            "cell_type": "markdown",
            "metadata": {},
            "source": [
                "#### Setting parameters in your code example"
            ]
        },
        {
            "cell_type": "code",
            "execution_count": null,
            "metadata": {},
            "outputs": [],
            "source": [
                "rospy.set_param(\"mode\", self.foo) #set the value of parameter \"mode\" to self.foo"
            ]
        },
        {
            "cell_type": "markdown",
            "metadata": {},
            "source": [
                "<h6><p style=\"text-align: center;\">\n",
                "<strong>Disclaimer:</strong>\n",
                "This tutorial is an adaptation of the <a href=\"https://wiki.ros.org/ROS/Tutorials/\">Official ROS tutorial</a> originally released under <a href=\"http://creativecommons.org/licenses/by/3.0/\">Creative Commons Attribution 3.0</a> license and Prof. Robinette's EECE5560 UMass Lowell class.\n",
                "</p></h6>"
            ]
        }
    ],
    "metadata": {
        "kernelspec": {
            "display_name": "Python 3.8.10 64-bit",
            "language": "python",
            "name": "python3"
        },
        "language_info": {
            "codemirror_mode": {
                "name": "ipython",
                "version": 2
            },
            "file_extension": ".py",
            "mimetype": "text/x-python",
            "name": "python",
            "nbconvert_exporter": "python",
            "pygments_lexer": "ipython2",
            "version": "3.8.10"
        },
        "vscode": {
            "interpreter": {
                "hash": "916dbcbb3f70747c44a77c7bcd40155683ae19c65e1c03b4aa3499c5328201f1"
            }
        }
    },
    "nbformat": 4,
    "nbformat_minor": 0
}
