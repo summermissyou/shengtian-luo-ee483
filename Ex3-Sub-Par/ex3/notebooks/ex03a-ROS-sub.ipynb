{
    "cells": [
        {
            "cell_type": "markdown",
            "metadata": {},
            "source": [
                "<div style=\"text-align: center;\">\n",
                "\n",
                "<h1 style= \"color:yellowgreen\"> Example ROS Subscriber\n",
                "</h1>\n",
                "\n",
                "</div>\n",
                "\n",
                "The following code creates a subscriber (\"listener\") node which will continually listen for messages in the topic (\"chatter\")."
            ]
        },
        {
            "cell_type": "code",
            "execution_count": null,
            "metadata": {},
            "outputs": [],
            "source": [
                "#!/usr/bin/env python3\n",
                "# Adapted from Prof Robinette's EECE5560 class \n",
                "import rospy\n",
                "from std_msgs.msg import String\n",
                "\n",
                "class Listener: # Defines a class for the subscriber node\n",
                "\tdef __init__(self):# Defines the constructor for the Talker class \n",
                "\t\t# In the constructor, you want to initialize all variables needed for your code\n",
                "\t\t# The init function is called once when you create an instance of the class\n",
                "\t\trospy.Subscriber(\"chatter\", String, self.callback) # Register the subscriber topic with ROS. \n",
                "\t\t\t\t\t\t#The topic name is chatter\n",
                "\t\t\t\t\t\t#The message type is listening for is of String type\n",
                "\t\t\t\t\t\t# Once it receives a message, it will call the self.callback function\n",
                "\t\t\t\t\t\t# Whenever a new message arrives, this function will be called\n",
                "\t\t\t\t\t\t\t\t\t\t\n",
                "\tdef callback(self, msg): # Function that will be called when a String message is received in the chatter topic\n",
                "\t\trospy.loginfo(rospy.get_caller_id() + \"I heard %s\", msg.data) # This will print the message received\n",
                "\t\t\t\n",
                "if __name__ == '__main__':\n",
                "\ttry:\n",
                "\t\trospy.init_node('listener', anonymous=True) #Initiates the ROS listener node\n",
                "\t\tListener() # Constructs Listener class\n",
                "\t\trospy.spin() # spin() simply keeps python from exiting until this node is stopped\n",
                "\texcept rospy.ROSInterruptException:\n",
                "\t\tpass"
            ]
        },
        {
            "cell_type": "markdown",
            "metadata": {},
            "source": [
                "<h6><p style=\"text-align: center;\">\n",
                "<strong>Disclaimer:</strong>\n",
                "This tutorial is an adaptation of the <a href=\"https://wiki.ros.org/ROS/Tutorials/\">Official ROS tutorial</a> originally released under <a href=\"http://creativecommons.org/licenses/by/3.0/\">Creative Commons Attribution 3.0</a> license and Prof. Robinette's EECE5560 UMass Lowell class.\n",
                "</p></h6>"
            ]
        }
    ],
    "metadata": {
        "kernelspec": {
            "display_name": "Python 3.8.10 64-bit",
            "language": "python",
            "name": "python3"
        },
        "language_info": {
            "codemirror_mode": {
                "name": "ipython",
                "version": 2
            },
            "file_extension": ".py",
            "mimetype": "text/x-python",
            "name": "python",
            "nbconvert_exporter": "python",
            "pygments_lexer": "ipython2",
            "version": "3.8.10"
        },
        "vscode": {
            "interpreter": {
                "hash": "916dbcbb3f70747c44a77c7bcd40155683ae19c65e1c03b4aa3499c5328201f1"
            }
        }
    },
    "nbformat": 4,
    "nbformat_minor": 0
}
