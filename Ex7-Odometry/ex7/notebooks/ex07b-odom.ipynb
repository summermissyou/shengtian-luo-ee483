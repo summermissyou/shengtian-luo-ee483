{
    "cells": [
        {
            "cell_type": "markdown",
            "metadata": {},
            "source": [
                "<div style=\"text-align: center;\">\n",
                "\n",
                "<h1 style= \"color:yellowgreen\">Rotary enconders\n",
                "</h1>\n",
                "\n",
                "</div>\n",
                "\n",
                "### Encoders\n",
                "\n",
                "Measure the amount of rotations \n",
                "The diagram below explains how an encoder measures the rotations\n",
                "\n",
                "<br><img src=\"../assets/ex7-imgs/odom-encoder.png\" style=\"width: 20%; height: auto;\"></br>\n",
                "<h6>\n",
                "<strong> <a href=\"https://app.hubspot.com/documents/8795519/view/717879114?accessId=84112c\">Image ref</a></strong>. \n",
                "</h6>\n",
                "\n",
                "- Encoder measures a \"tick\" every $\\Delta \\phi$ \n",
                "\n",
                "Intuitively, the sensor is attached to a motor.   \n",
                "A disk with evenly spaced opaque and transparent sections ($\\Delta \\phi$).  \n",
                "Between the disk, there is a light emiter and detector.  \n",
                "The light is detected whenever the emiter is facing a transparent section in the disk.  \n",
                "Otherwise, the detector does not sees the light.  \n",
                "In this manner, the enconder counts the number of sections.  \n",
                "An example of the detector output is shown below:\n",
                "\n",
                "<br><img src=\"../assets/ex7-imgs/odom-encoder-det.png\" style=\"width: 20%; height: auto;\"></br>\n",
                "<h6>\n",
                "<strong> <a href=\"https://anaheimautomation.com/blog/post/encoders-guide?srsltid=AfmBOorONh8ZECsL4QmZ3sL-qDheUVxXcBvurSCyc_naUHNWbrv5yVix\">Image ref</a></strong>\n",
                "</h6>\n",
                "\n",
                "\n",
                "\n",
                "### Calculating distance traveled with Encoders\n",
                "\n",
                "Each enconder will have a pre-determined total number of ticks - total number of $\\Delta \\phi$   \n",
                "For example, the MM's enconder have 135 \"ticks\"   \n",
                "In other words, if the encoder counts $135$ ticks, that means that the wheels have spun 1 full revolution (assuming no slipping).  \n",
                "Assuming that $R$ is the radius of the MM wheel, $N$ is the total number of ticks counted in $\\Delta t$ time, and $N_{tot} = 135$ is the total number of ticks in the disk.  \n",
                "The travelled distance in $\\Delta t$ is:\n",
                "$$d = 2\\pi R \\frac{N}{N_{tot}}$$\n",
                "\n",
                "\n",
                "Great! We have a way to compute the distance traveled by each wheel in the MM.  \n",
                "How about the position of entire MM? \n",
                "\n",
                "### Next notebook\n",
                "In the next notebook, we will cover calculating the position of the robot based on the enconder measurements.\n",
                "   \n"
            ]
        },
        {
            "cell_type": "markdown",
            "metadata": {},
            "source": [
                "<h6><p style=\"text-align: center;\">\n",
                "<strong>Disclaimer:</strong>\n",
                "This tutorial is an adaptation of the Prof. Robinette's EECE5560 UMass Lowell class and <strong> <a href=\"https://app.hubspot.com/documents/8795519/view/717879114?accessId=84112c\">Duckietown materials</a></strong>\n",
                "</p></h6>"
            ]
        }
    ],
    "metadata": {
        "kernelspec": {
            "display_name": "Python 3.8.10 64-bit",
            "language": "python",
            "name": "python3"
        },
        "language_info": {
            "codemirror_mode": {
                "name": "ipython",
                "version": 2
            },
            "file_extension": ".py",
            "mimetype": "text/x-python",
            "name": "python",
            "nbconvert_exporter": "python",
            "pygments_lexer": "ipython2",
            "version": "3.8.10"
        },
        "vscode": {
            "interpreter": {
                "hash": "916dbcbb3f70747c44a77c7bcd40155683ae19c65e1c03b4aa3499c5328201f1"
            }
        }
    },
    "nbformat": 4,
    "nbformat_minor": 0
}
