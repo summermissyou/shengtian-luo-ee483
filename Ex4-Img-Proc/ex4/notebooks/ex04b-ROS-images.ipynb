{
    "cells": [
        {
            "cell_type": "markdown",
            "metadata": {},
            "source": [
                "<div style=\"text-align: center;\">\n",
                "\n",
                "<h1 style= \"color:yellowgreen\">Image representation and OpenCV in ROS\n",
                "</h1>\n",
                "\n",
                "</div>\n",
                "\n",
                "\n",
                "<h2 style= \"color:coral\"> Images Represented in Code\n",
                "</h2>\n",
                "\n",
                "#### Gray scale images\n",
                "Images are composed by pixels.   \n",
                "Each pixel is represented by an **intensity value**.\n",
                "In grayscale, each value varies between 0 (black color) to 255 (white color).   \n",
                "The values in between will give you different intensities of gray as shown in the figure below.\n",
                "\n",
                "<br><img src=\"../assets/ex4-imgs/grayscale.png\" style=\"width: 50%; height: auto;\"></br>\n",
                "\n",
                "An image is the a matrix of pixels as shown in the **16 x 12** image below.   \n",
                "In other words, images are represented by a matrix of intensity values.\n",
                "\n",
                "<br><img src=\"../assets/ex4-imgs/grayscale-image.png\" style=\"width: 75%; height: auto;\"></br>\n",
                "<h6><p style=\"text-align: center;\">\n",
                "<strong>Image from </strong><a href=\"https://openframeworks.cc/ofBook/chapters/image_processing_computer_vision.html\">Image Processing</a>\n",
                "</p></h6>\n",
                "\n",
                "\n",
                "<h3> <span style= \"color:red\">What </span><span style= \"color:green\"> about </span><span style= \"color:blue\"> colors? </span></h3>\n",
                "\n",
                "\n",
                "#### RGB images\n",
                "\n",
                "Color is introduced is model similar manner.  \n",
                "Three matrices with intensity values for colors <span style= \"color:red\">Red </span><span style= \"color:green\"> Green </span><span style= \"color:blue\"> Blue </span> (RGB)\n",
                "<br><img src=\"../assets/ex4-imgs/rgb-array.png\" style=\"width: 50%; height: auto;\"></br>\n",
                "<strong>Image from </strong><a href=\"https://www.geeksforgeeks.org/matlab-rgb-image-representation/\">RGB Image</a>\n",
                "\n"
            ]
        },
        {
            "cell_type": "markdown",
            "metadata": {},
            "source": [
                "\n",
                "<h2 style= \"color:coral\"> OpenCV Image Representation and Basic Operations\n",
                "</h2>\n",
                "\n",
                "- Library for image processing and computer vision algorithms\n",
                "- Images stored as multi-dim NumPy arrays\n",
                "- Default color images are in BGR format 🤷🏾‍♂️\n",
                "\n",
                "\n",
                "### Images in ROS and OpenCV\n",
                "\n",
                "- ROS has its own Image message type (different from OpenCV) - `sensor_msgs/Image`\n",
                "<br><img src=\"../assets/ex4-imgs/ROS-image-message.png\" style=\"width: 50%; height: auto;\"></br>\n",
                "\n",
                "- Package cv_bridge converts ROS Images to OpenCV images and vice-versa\n",
                "- The CvBridge class provides two key functions:\n",
                "\t- `imgmsg_to_cv2`: Converts a ROS image (sensor_msgs/Image) to an OpenCV image.\n",
                "\t- `cv2_to_imgmsg`: Converts an OpenCV image to a ROS image for publishing.\n",
                "\t- In both function you need an encoding type \n",
                "\t\t- mono8 - grayscale\n",
                "\t\t- bgr8 - blue, green, red encoding\n",
                "\n",
                "<strong><a href=\"http://wiki.ros.org/cv_bridge/Tutorials/ConvertingBetweenROSImagesAndOpenCVImagesPython\">More info on CVBridge </a></strong>\n"
            ]
        },
        {
            "cell_type": "code",
            "execution_count": null,
            "metadata": {},
            "outputs": [],
            "source": [
                "#THIS CODE IS JUST TO SHOW THE CV BRIDGE FUNCTIONS\n",
                "bridge = CvBridge() #instantiate the bridge class\n",
                "cv_img = cv2.imread(filename) #For completeness: reads an image\n",
                "img_msg = bridge.cv2_to_imgmsg(cv_img, \"bgr8\") #Converts an cv image to an ROS Image message - \"bgr8\" is the encoding\n",
                "cv_img = bridge.imgmsg_to_cv2(img_msg, \"bgr8\") #Converts ROS Image message to an cv Image - \"bgr8\" is the encoding"
            ]
        },
        {
            "cell_type": "markdown",
            "metadata": {},
            "source": [
                "### OpenCV - NumPy operations\n",
                "\n",
                "- Some useful cv2 commands"
            ]
        },
        {
            "cell_type": "code",
            "execution_count": null,
            "metadata": {},
            "outputs": [],
            "source": [
                "img =  cv2.imread(\"test_cropped.jpg\") #HERE JUST FOR COMPLETENESS - we won't use read (Images will come from topics for us)\n",
                "image_copy = img.copy() #Copy images\n",
                "imgheight=img.shape[0] #Gets number of rows (height)\n",
                "imgwidth=img.shape[1] #Gets number of columns (width)"
            ]
        },
        {
            "cell_type": "markdown",
            "metadata": {},
            "source": [
                "- Via NumPy indexing"
            ]
        },
        {
            "cell_type": "code",
            "execution_count": null,
            "metadata": {},
            "outputs": [],
            "source": [
                "pixel = image[i, j, k] # Access pixel at row i, column j, and channel k (0 = Blue, 1= Green, 2=Red)"
            ]
        },
        {
            "cell_type": "markdown",
            "metadata": {},
            "source": [
                "- Cropping using array slicing"
            ]
        },
        {
            "cell_type": "code",
            "execution_count": null,
            "metadata": {},
            "outputs": [],
            "source": [
                "cropped_image = image[start_row:end_row, start_col:end_col] #crops image rows (height) from start to end and columns (width) start to end\n",
                "cropped_image = image[start_row:end_row] #crops only image rows (height) from start to end\n",
                "cropped_image = image[:,start_col:end_col] #crops only image columns (width) from start to end"
            ]
        },
        {
            "cell_type": "markdown",
            "metadata": {},
            "source": [
                "**Test the `crop.py` Node in the `img_proc_aux` package**\n",
                "\n",
                "In the **VNC container**, (`dts code workbench --recipe ../ex4-recipe`)\n",
                "\n",
                "- Open three LXTerminals\n",
                "- Build and source the catkin workspace\n",
                "\t- roscore \n",
                "\t- rosrun img_proc_aux image_pub_all.py\n",
                "\t- rosrun img_proc_aux crop.py\n",
                "- To view the image\n",
                "\t- In the VNC container, open the rqt_image_view icon.\n",
                "\n",
                "In the **Devel container**, (`dts devel run -X -M -f --cmd bash`)\n",
                "\n",
                "- Open terminals as necessary (with `dts devel run attach`)\n",
                "- Build and source the catkin workspace\n",
                "\t- roscore (one terminal)\n",
                "\t- rosrun img_proc_aux image_pub_all.py (one terminal)\n",
                "\t- rosrun img_proc_aux crop.py (one terminal)\n",
                "- To view the image\n",
                "\t- In the Devel container, attach a new terminal  and run the command `rqt_image_view` (one terminal)"
            ]
        },
        {
            "cell_type": "code",
            "execution_count": null,
            "metadata": {},
            "outputs": [],
            "source": [
                "#!/usr/bin/env python3\n",
                "\n",
                "import sys\n",
                "import rospy\n",
                "import cv2\n",
                "from sensor_msgs.msg import Image\n",
                "from cv_bridge import CvBridge\n",
                "\n",
                "class ImageCropper:\n",
                "    def __init__(self):\n",
                "        # Instatiate the converter class once by using a class member\n",
                "        self.bridge = CvBridge()\n",
                "        rospy.Subscriber(\"image\", Image, self.crop)\n",
                "        self.pub = rospy.Publisher(\"image_cropped\", Image, queue_size=10)\n",
                "    \n",
                "    def crop(self, msg):\n",
                "\n",
                "        #Pulling image from ROS msg to cv format\n",
                "        cv_img = self.bridge.imgmsg_to_cv2(msg, \"bgr8\")\n",
                "        #Cropping image from [startY:endY, startX, endX]\n",
                "        cropped_img = cv_img[100:250, 100:250]\n",
                "        #Converting image from cv format to ROS msg\n",
                "        ros_cropped = self.bridge.cv2_to_imgmsg(cropped_img, \"bgr8\")\n",
                "        #publishing cropped image\n",
                "        self.pub.publish(ros_cropped)\n",
                "\n",
                "\n",
                "\n",
                "if __name__==\"__main__\":\n",
                "    # initialize our node and create a publisher as normal\n",
                "    rospy.init_node(\"image_cropper\", anonymous=True)\n",
                "    img_crop = ImageCropper()\n",
                "    rospy.spin()"
            ]
        },
        {
            "cell_type": "markdown",
            "metadata": {},
            "source": [
                "Similarly, you can **test the `flip_image.py` Node in the `img_proc_aux` package**\n",
                "\n",
                "### Viewing the Image \n",
                "\n",
                "- Open three LXTerminals\n",
                "- Build and source the catkin workspace\n",
                "\t- roscore \n",
                "\t- rosrun img_proc_aux image_pub_all.py\n",
                "\t- rosrun img_proc_aux crop.py\n",
                "- To view the image\n",
                "\t- In the VNC container, open the rqt_image_view icon.\n",
                "\t- In the Devel container, attach a new terminal `dts devel run attach` and run the command `rqt_image_view`\n"
            ]
        },
        {
            "cell_type": "markdown",
            "metadata": {},
            "source": [
                "<h6><p style=\"text-align: center;\">\n",
                "<strong>Disclaimer:</strong>\n",
                "This tutorial is an adaptation of the Prof. Robinette's EECE5560 UMass Lowell class.\n",
                "</p></h6>"
            ]
        }
    ],
    "metadata": {
        "kernelspec": {
            "display_name": "Python 3.8.10 64-bit",
            "language": "python",
            "name": "python3"
        },
        "language_info": {
            "codemirror_mode": {
                "name": "ipython",
                "version": 2
            },
            "file_extension": ".py",
            "mimetype": "text/x-python",
            "name": "python",
            "nbconvert_exporter": "python",
            "pygments_lexer": "ipython2",
            "version": "3.8.10"
        },
        "vscode": {
            "interpreter": {
                "hash": "916dbcbb3f70747c44a77c7bcd40155683ae19c65e1c03b4aa3499c5328201f1"
            }
        }
    },
    "nbformat": 4,
    "nbformat_minor": 0
}
