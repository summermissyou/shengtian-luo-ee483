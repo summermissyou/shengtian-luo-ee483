{
    "cells": [
        {
            "cell_type": "markdown",
            "metadata": {},
            "source": [
                "<div style=\"text-align: center;\">\n",
                "\n",
                "<h1 style= \"color:yellowgreen\">Color filters in OpenCV\n",
                "</h1>\n",
                "\n",
                "</div>\n",
                "\n",
                "\n",
                "<h2 style= \"color:coral\"> Color Spaces RGB vs HSV\n",
                "</h2>\n",
                "\n",
                "### RGB Color Space\n",
                "Most images are stored in the RGB format, where each pixel is represented by a combination of Red, Green, and Blue intensities.  \n",
                "Recall that OpenCV uses the BGR format  \n",
                "\n",
                "\n",
                "<br><img src=\"../assets/ex4-imgs/rgb-color-space.png\" style=\"width: 50%; height: auto;\"></br>\n",
                "\n",
                "Using RGB to filter colors. \n",
                "\n",
                "Threshold based on RGB values of each pixel - if pixels are within a color range.\n",
                "\n",
                "In OpenCV\n"
            ]
        },
        {
            "cell_type": "code",
            "execution_count": null,
            "metadata": {},
            "outputs": [],
            "source": [
                "output_image = cv2.inRange(input_image, lower_bound, upper_bound)"
            ]
        },
        {
            "cell_type": "markdown",
            "metadata": {},
            "source": [
                "- input_image is the Original Image\n",
                "- output_image is the Filtered Image \n",
                "\t- It's is a binary image\n",
                "\t- 1 if pixel in original image is in range\n",
                "\t- 0 if pixel in original image is not in range\n",
                "\t- - If you want to see the image needs to convert with `mono8` encoding when converting to ROS Image message.\n",
                "- lower_bound is the mininum color value to accept\n",
                "- upper_bound is the maximum color value to accept\n",
                "- RGB values vary from 0 to 255 in each color.\n",
                "\n",
                "Filter <span style= \"color:red\">red colors </span>\n",
                "\n",
                "Range: (0,0,0) to (0,0,255) - Allowing only red\n",
                "\n",
                "<br><img src=\"../assets/ex4-imgs/red-filter.png\" style=\"width: 75%; height: auto;\"></br>\n",
                "\n",
                "Hmmm! Not great  \n",
                "Let's allow a bit more color from Blue and Green\n",
                "\n",
                "<br><img src=\"../assets/ex4-imgs/red-filter2.png\" style=\"width: 75%; height: auto;\"></br>\n",
                "\n",
                "Now we have other unwanted areas but no red yet.   \n",
                "Grrrr.   \n",
                "There should be a better way! (HSV color space)"
            ]
        },
        {
            "cell_type": "markdown",
            "metadata": {},
            "source": [
                "### HSV Color Space\n",
                "\n",
                "In HSV color is represented as:\n",
                "- One value represents the distance from white (Saturation)\n",
                "- One value represents the distance from black (Value)\n",
                "- One value represents what remains (hue)\n",
                "\n",
                "<br><img src=\"../assets/ex4-imgs/hsv-color-space.png\" style=\"width: 50%; height: auto;\"></br>\n",
                "\n",
                "#### Converting in between color spaces"
            ]
        },
        {
            "cell_type": "code",
            "execution_count": null,
            "metadata": {},
            "outputs": [],
            "source": [
                "output_image_HSV = cv2.cvtColor(input_image_BGR,cv2.COLOR_BGR2HSV) # BGR TO HSV\n",
                "output_image_BGR = cv2.cvtColor(input_image_HSV,cv2.COLOR_HSV2BGR) # HSV TO BGR\n",
                "output_image_GRAY = cv2.cvtColor(input_image_BGR,cv2.COLOR_BGR2GRAY) # BGR TO GRAY"
            ]
        },
        {
            "cell_type": "markdown",
            "metadata": {},
            "source": [
                "- input_image_BGR - Original image in BGR\n",
                "- input_image_HSV - Original image in HSV\n",
                "- output_image_BGR - Converted image in BGR\n",
                "- output_image_HSV - Converted image in HSV\n",
                "- output_image_GRAY - Converted image in GRAY\n",
                "- Conversions options\n",
                "\t- cv2.COLOR_BGR2HSV\n",
                "\t- cv2.COLOR_HSV2BGR\n",
                "\t- cv2.COLOR_BGR2GRAY\n",
                "\n",
                "Back to our red filter.  \n",
                "Now let's filter in the HSV space\n",
                "\n",
                "\n",
                "<br><img src=\"../assets/ex4-imgs/red-filter-hsv.png\" style=\"width: 50%; height: auto;\"></br>"
            ]
        },
        {
            "cell_type": "code",
            "execution_count": null,
            "metadata": {},
            "outputs": [],
            "source": [
                "hsv_image = cv2.cvtColor(cv_img, cv2.COLOR_BGR2HSV)\n",
                "#Converts bgr image to hsv image\n",
                "mask = cv2.inRange(hsv_image, (0,97,181),(180,255,255))\n",
                "#Finds all pixels within the given range. In this scenario its red"
            ]
        },
        {
            "cell_type": "markdown",
            "metadata": {},
            "source": [
                "\n",
                "\n",
                "Note that the filter method is the same `cv2.inRange(input_image, lower_bound, upper_bound)`\n",
                "\n",
                "- Input image **MUST** be in HSV. First, we convert from BGR TO HSV\n",
                "\n",
                "- Lower and Upper Bounds are HSV bounds. \n",
                "- In each bound:\n",
                "\t- First value is Hue - It ranges from 0 to 180\n",
                "\t- Second value is Sat - It ranges from 0 to 255\n",
                "\t- Third value is Value - It ranges from 0 to 255\n",
                "- Recall that `cv2.inRange(input_image, lower_bound, upper_bound)` returns a binary image (GrayScale).\n",
                "\t- If you want to see the image needs to convert with `mono8` encoding.\n",
                "\n",
                "**HELPFUL TOOLs** \n",
                "- <strong> <a href=\"https://colorpicker.me/#c04a23\">Online HSV picker</a></strong>\n",
                "\t- It give Hue values ranging from 0 to 360. **You need to divide by two when applyting to your code.**\n",
                "\t- It gives Sat and Value values in %. **You need to change to ranges between 0 to 255**\n",
                "- <strong> <a href=\"https://pseudopencv.site/utilities/hsvcolormask/\">Online HSV Filter Testing</a></strong>\n",
                "\t- It applies an HSV filter to an image and produces the output image online.\n",
                "\t- It **does not** show you a binary image as the inRange function will show. \n",
                "\n",
                "The img_proc_aux has a node called color_filter.py.  \n",
                "Feel free to investigate the code and used it in your exercise."
            ]
        },
        {
            "cell_type": "markdown",
            "metadata": {},
            "source": [
                "<h2 style= \"color:coral\"> Using masks - Bitwise operations\n",
                "</h2>\n",
                "\n",
                "<br><img src=\"../assets/ex4-imgs/mask-example.png\" style=\"width: 75%; height: auto;\"></br>\n",
                "\n",
                "Example:\n",
                "\n",
                "- Filter for red pixels\n",
                "- Filter for blue pixels\n",
                "- Bitwise OR both outputs\n",
                "- Combine with the input image to see the final color"
            ]
        },
        {
            "cell_type": "code",
            "execution_count": null,
            "metadata": {},
            "outputs": [],
            "source": [
                "image_hsv = cv2.cvtColor(image, cv2.COLOR_BGR2HSV) # Converts to HSV\n",
                "image_red = cv2.inRange(hsv_image, (0,97,181),(180,255,255)) # Red filter mask\n",
                "image_blue = cv2.inRange(hsv_image, (88,133,0),(104,248,184)) # Blue filter mask\n",
                "mask = cv2.bitwise_or(image_red, image_blue) #Combining blue and red masks\n",
                "output = cv2.bitwise_and(image, image, mask=mask) # adding color, image is the BGR image\n"
            ]
        },
        {
            "cell_type": "markdown",
            "metadata": {},
            "source": [
                "Bitwise OR\n",
                "<br><img src=\"../assets/ex4-imgs/bit-or-red-blue.png\" style=\"width: 100%; height: auto;\"></br>\n",
                "\n",
                "Bitwise AND\n",
                "<br><img src=\"../assets/ex4-imgs/bit-and-red-blue.png\" style=\"width: 100%; height: auto;\"></br>\n",
                "\n",
                "**NOTE** To JUST mask an image, use bitwise_and and give the input image twice. See last line in the code above.\n",
                "\n",
                "\n",
                "The img_proc_aux has a node called mask_op.py.  \n",
                "Feel free to investigate the code and used it in your exercise."
            ]
        },
        {
            "cell_type": "markdown",
            "metadata": {},
            "source": [
                "<h6><p style=\"text-align: center;\">\n",
                "<strong>Disclaimer:</strong>\n",
                "This tutorial is an adaptation of the Prof. Robinette's EECE5560 UMass Lowell class.\n",
                "</p></h6>"
            ]
        }
    ],
    "metadata": {
        "kernelspec": {
            "display_name": "Python 3.8.10 64-bit",
            "language": "python",
            "name": "python3"
        },
        "language_info": {
            "codemirror_mode": {
                "name": "ipython",
                "version": 2
            },
            "file_extension": ".py",
            "mimetype": "text/x-python",
            "name": "python",
            "nbconvert_exporter": "python",
            "pygments_lexer": "ipython2",
            "version": "3.8.10"
        },
        "vscode": {
            "interpreter": {
                "hash": "916dbcbb3f70747c44a77c7bcd40155683ae19c65e1c03b4aa3499c5328201f1"
            }
        }
    },
    "nbformat": 4,
    "nbformat_minor": 0
}
