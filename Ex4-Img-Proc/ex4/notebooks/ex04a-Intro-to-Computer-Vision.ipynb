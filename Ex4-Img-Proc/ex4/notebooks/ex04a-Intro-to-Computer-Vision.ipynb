{
    "cells": [
        {
            "cell_type": "markdown",
            "metadata": {},
            "source": [
                "<div style=\"text-align: center;\">\n",
                "\n",
                "<h1 style= \"color:yellowgreen\">Introduction to Computer Vision\n",
                "</h1>\n",
                "\n",
                "</div>\n",
                "\n",
                "\n",
                "## Computer vision\n",
                "\n",
                "The field that studies methods that enables computers to identify and understand contexts in the images and videos.\n",
                "\n",
                "Some computer vision tasks include:\n",
                "\n",
                "- Object identification\n",
                "- Object classification\n",
                "- Object tracking\n",
                "- Image segmentation\n",
                "- Image reconstruction\n",
                "- Etc.\n",
                "\n",
                "<br><img src=\"../assets/ex4-imgs/computer-vision-tasks.png\" style=\"width: 100%; height: auto;\"></br>\n",
                "\n",
                "\n",
                "\n",
                "<h2 style= \"color:coral\"> Cameras\n",
                "</h2>\n",
                "\n",
                "Something in the real world we would like to store/record\n",
                "\n",
                "\n",
                "### Pinhole camera\n",
                "\n",
                "Let limited light travel to get to the otherside of the material\n",
                "\n",
                "<br><img src=\"../assets/ex4-imgs/Pinhole-camera.png\" style=\"width: 100%; height: auto;\"></br>\n",
                "<strong>Image from </strong><a href=\"https://en.wikipedia.org/wiki/Camera_lens\">Pinhole Camera</a>\n",
                "\n",
                "Pros:\n",
                "\n",
                "- Simple to operate and build\n",
                "- Image proportials are maintained\n",
                "\n",
                "Cons:\n",
                "\n",
                "- Needs space\n",
                "- More light makes images blurry\n",
                "\n",
                "## Lens\n",
                "\n",
                "Similar to pinhole camera but distorded due to lens\n",
                "\n",
                "<br><img src=\"../assets/ex4-imgs/pinhole-lens.png\" style=\"width: 100%; height: auto;\"></br>\n",
                "<strong>Image from </strong><a href=\"https://en.wikipedia.org/wiki/Camera_lens\">Pinhole Camera</a>\n",
                "\n",
                "Pros:\n",
                "\n",
                "- Sensor much closer to aperture than pinhole\n",
                "- Light can be adjusted independent of focus\n",
                "- Relatively easy to make different focal lenghts\n",
                "\n",
                "Cons:\n",
                "\n",
                "- Focal lenght usually fixed\n",
                "- Lens creates distortion in the image\n",
                "- Imperfections in the lens can distort the image further"
            ]
        },
        {
            "cell_type": "markdown",
            "metadata": {},
            "source": [
                "<h6><p style=\"text-align: center;\">\n",
                "<strong>Disclaimer:</strong>\n",
                "This tutorial is an adaptation of the Prof. Robinette's EECE5560 UMass Lowell class.\n",
                "</p></h6>"
            ]
        }
    ],
    "metadata": {
        "kernelspec": {
            "display_name": "Python 3.8.10 64-bit",
            "language": "python",
            "name": "python3"
        },
        "language_info": {
            "codemirror_mode": {
                "name": "ipython",
                "version": 2
            },
            "file_extension": ".py",
            "mimetype": "text/x-python",
            "name": "python",
            "nbconvert_exporter": "python",
            "pygments_lexer": "ipython2",
            "version": "3.8.10"
        },
        "vscode": {
            "interpreter": {
                "hash": "916dbcbb3f70747c44a77c7bcd40155683ae19c65e1c03b4aa3499c5328201f1"
            }
        }
    },
    "nbformat": 4,
    "nbformat_minor": 0
}
