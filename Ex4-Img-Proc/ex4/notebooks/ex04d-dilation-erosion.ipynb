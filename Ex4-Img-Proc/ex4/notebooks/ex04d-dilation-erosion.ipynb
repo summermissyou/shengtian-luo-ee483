{
    "cells": [
        {
            "cell_type": "markdown",
            "metadata": {},
            "source": [
                "<div style=\"text-align: center;\">\n",
                "\n",
                "<h1 style= \"color:yellowgreen\">Morphological Operations\n",
                "</h1>\n",
                "\n",
                "</div>\n",
                "\n",
                "Morphological Operations are techniques used to process binary or grayscale images to reduce noise or adjust object shapes.  \n",
                "\n",
                "<h2 style= \"color:coral\"> Erosion and Dilation\n",
                "</h2>\n",
                "\n",
                "### Erosion in Open CV\n",
                "Shrinks regions in the image.\n",
                "\n",
                "Process:\n",
                "- Scan pixels one at at time\n",
                "- Find **minimum** value of pixel and its neighbors (usually a 3x3 grid (kernel))\n",
                "- Set new pixel value to that **minimum value**\n",
                "\n",
                "\n",
                "<br><img src=\"../assets/ex4-imgs/erosion-example.png\" style=\"width: 70%; height: auto;\"></br>\n",
                "\n",
                "In OpenCV:   \n",
                "In the code below `image` is an open cv `image` variable.\n"
            ]
        },
        {
            "cell_type": "code",
            "execution_count": null,
            "metadata": {},
            "outputs": [],
            "source": [
                "kernel = cv2.getStructuringElement(cv2.MORPH_ELLIPSE, (3,3)) # Kernel size\n",
                "image_erode = cv2.erode(image, kernel) # Apply erosion to image"
            ]
        },
        {
            "cell_type": "markdown",
            "metadata": {},
            "source": [
                "You can modified the kernel size, e.g., 5x5, 7x7, etc. \n",
                "\n",
                "In our case, we can apply erosion to remove outliner from your lane filter mask.  \n",
                "\n",
                "<br><img src=\"../assets/ex4-imgs/erosion-applied.png\" style=\"width: 100%; height: auto;\"></br>\n",
                "\n",
                "\n",
                "The img_proc_aux has a node called erosion.py.  \n",
                "Feel free to investigate the code and used it in your exercise."
            ]
        },
        {
            "cell_type": "markdown",
            "metadata": {},
            "source": [
                "### Dilation in Open CV\n",
                "Grows regions in the image\n",
                "\n",
                "Process:\n",
                "- Scan pixels one at at time\n",
                "- Find **maximum** value of pixel and its neighbors (usually a 3x3 grid (kernel))\n",
                "- Set new pixel value to that **maximum value**\n",
                "\n",
                "\n",
                "<br><img src=\"../assets/ex4-imgs/dilation-example.png\" style=\"width: 70%; height: auto;\"></br>\n",
                "\n",
                "In OpenCV:   \n",
                "In the code below `image` is an open cv `image` variable.\n"
            ]
        },
        {
            "cell_type": "code",
            "execution_count": null,
            "metadata": {},
            "outputs": [],
            "source": [
                "kernel = cv2.getStructuringElement(cv2.MORPH_ELLIPSE, (3,3))\n",
                "image_dilate = cv2.dilate(image, kernel)"
            ]
        },
        {
            "cell_type": "markdown",
            "metadata": {},
            "source": [
                "You can modified the kernel size, e.g., 5x5, 7x7, etc.\n",
                "\n",
                "In our case, we can apply dilation to fill gaps in your lane filter mask.  \n",
                "\n",
                "<br><img src=\"../assets/ex4-imgs/dilation-applied.png\" style=\"width: 100%; height: auto;\"></br>\n",
                "\n",
                "\n",
                "\n",
                "The img_proc_aux has a node called dilation.py.  \n",
                "Feel free to investigate the code and used it in your exercise."
            ]
        },
        {
            "cell_type": "markdown",
            "metadata": {},
            "source": [
                "<h6><p style=\"text-align: center;\">\n",
                "<strong>Disclaimer:</strong>\n",
                "This tutorial is an adaptation of the Prof. Robinette's EECE5560 UMass Lowell class.\n",
                "</p></h6>"
            ]
        }
    ],
    "metadata": {
        "kernelspec": {
            "display_name": "Python 3.8.10 64-bit",
            "language": "python",
            "name": "python3"
        },
        "language_info": {
            "codemirror_mode": {
                "name": "ipython",
                "version": 2
            },
            "file_extension": ".py",
            "mimetype": "text/x-python",
            "name": "python",
            "nbconvert_exporter": "python",
            "pygments_lexer": "ipython2",
            "version": "3.8.10"
        },
        "vscode": {
            "interpreter": {
                "hash": "916dbcbb3f70747c44a77c7bcd40155683ae19c65e1c03b4aa3499c5328201f1"
            }
        }
    },
    "nbformat": 4,
    "nbformat_minor": 0
}
