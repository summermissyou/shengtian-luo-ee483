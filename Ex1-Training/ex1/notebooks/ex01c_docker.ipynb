{
    "cells": [
        {
            "cell_type": "markdown",
            "metadata": {},
            "source": [
                "# Overview on Docker\n"
            ]
        },
        {
            "cell_type": "markdown",
            "metadata": {},
            "source": [
                "## Why do we need Docker?\n",
                "- Why the use of docker?\n",
                "- Why learning these commands and the structure of directories\n",
                "\n",
                "<p> \n",
                "Two interns started their working on the autonomy of the MMs. \n",
                "One worked with an MacOS while the second used a Linux system.\n",
                "The intern using Linux made a great function for the MM using a complex set of obscure libraries that only work on Linux.\n",
                "How can the intern using MacOS run this code?\n",
                "</p>\n",
                "\n",
                "## Docker solves the problem on software development \"It works on my machine...\"\n",
                "\n",
                "![meme-machine](../assets/ex1-images/meme-works-in-my-machine.webp) "
            ]
        },
        {
            "cell_type": "markdown",
            "metadata": {},
            "source": [
                "## Containers vs Virtual Machines\n",
                "\n",
                "- Virtual machines is a software that behaves like an actual computer. It emulates a computer system.\n",
                "- They run a guest operating system on top of a host OS. For example, running Linux on top of Microsoft system (You might need to do that to run code in this class 😁)\n",
                "\n",
                "<img style=\"float: left;\" src=\"../assets/ex1-images/meme-vms.webp\" alt=\"drawing\" width=\"300\"/>\n",
                "\n",
                "\n"
            ]
        },
        {
            "cell_type": "markdown",
            "metadata": {},
            "source": [
                "- Visual difference among VM and container\n",
                "\n",
                "<img style=\"float: left;\" src=\"../assets/ex1-images/vm_vs_docker.png\" alt=\"drawing\" width=\"400\"/>\n"
            ]
        },
        {
            "cell_type": "markdown",
            "metadata": {},
            "source": [
                "## Containers \n",
                "\n",
                "Containers are like VMs but without the \"Guest OS\", i.e., containers share host OS and, where appropriate, bins/libraries.  \n",
                "Overall\n",
                "- Lighter-weight\n",
                "- Faster to build\n",
                "- Portable\n",
                "- Scalable\n",
                "\n",
                "We will use Docker as container systems\n"
            ]
        },
        {
            "cell_type": "markdown",
            "metadata": {},
            "source": [
                "## Docker Lingo\n",
                "\n",
                "- Dockerfile - blueprint for your container.\n",
                "\n",
                "- Docker images: A package or template used to create one or more containers;\n",
                "\n",
                "    - Images can be overlaid on each other\n",
                "\n",
                "- Docker container: runtime of an image. <br>\n",
                "\n",
                "<img style=\"float: left;\" src=\"../assets/ex1-images/docker_illustration.png\" alt=\"drawing\" width=\"500\"/>\n",
                "\n",
                "\n"
            ]
        },
        {
            "cell_type": "markdown",
            "metadata": {},
            "source": [
                "## How are we going to use Docker\n",
                "\n",
                "- Run assigments, labs, and project in docker images\n",
                "    - Dockerfile is provided from template no need for alterations. They are located in the recipe folders.\n",
                "- Keeps environment consistent for student and instructor\n",
                "    - We will be able to run your code without 😁\n",
                "    - Easy to run in other computers"
            ]
        },
        {
            "cell_type": "markdown",
            "metadata": {},
            "source": [
                "## Common issues using Docker images\n",
                "\n",
                "- Running the commands in the Host OS instead of the docker container\n",
                "- How do I know if I am in running in the container or on my host OS? (IMAGE SHOWING THE DIFFERENT SHELL NAMES)"
            ]
        },
        {
            "cell_type": "markdown",
            "metadata": {},
            "source": [
                "<p style=\"text-align: center;\">\n",
                "<strong>Disclaimer:</strong>\n",
                "This tutorial is an based on Prof. Robinette's class (add link) & geeksforgeeks-Why should you use docker (add link https://www.geeksforgeeks.org/why-should-you-use-docker-7-major-reasons/) & testdriven.io - (add link https://testdriven.io/blog/docker-for-beginners/ )\n",
                "https://testdriven.io/blog/docker-for-beginners/\n",
                "\n",
                "</p>"
            ]
        }
    ],
    "metadata": {
        "kernelspec": {
            "display_name": "Python 3.8.10 64-bit",
            "language": "python",
            "name": "python3"
        },
        "language_info": {
            "codemirror_mode": {
                "name": "ipython",
                "version": 2
            },
            "file_extension": ".py",
            "mimetype": "text/x-python",
            "name": "python",
            "nbconvert_exporter": "python",
            "pygments_lexer": "ipython2",
            "version": "3.8.10"
        },
        "vscode": {
            "interpreter": {
                "hash": "916dbcbb3f70747c44a77c7bcd40155683ae19c65e1c03b4aa3499c5328201f1"
            }
        }
    },
    "nbformat": 4,
    "nbformat_minor": 0
}
