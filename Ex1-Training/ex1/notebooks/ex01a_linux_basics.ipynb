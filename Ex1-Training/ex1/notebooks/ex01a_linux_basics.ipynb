{
    "cells": [
        {
            "cell_type": "markdown",
            "metadata": {},
            "source": [
                "<p style=\"text-align: center;\">\n",
                "<strong>Disclaimer:</strong>\n",
                "This tutorial is an adaptation of the <a href=\"https://wiki.ros.org/ROS/Tutorials/\">Official ROS tutorial</a> originally released under <a href=\"http://creativecommons.org/licenses/by/3.0/\">Creative Commons Attribution 3.0</a> license.\n",
                "</p>"
            ]
        },
        {
            "cell_type": "markdown",
            "metadata": {},
            "source": [
                "# Navigating the File Systems via terminal (command line interface)\n"
            ]
        },
        {
            "cell_type": "markdown",
            "metadata": {},
            "source": [
                "The terminal in Linux is where you will be running all of your commands and programs for your robots\n",
                "## Quick Overview of Basic Commands\n",
                "- Commands are tasks we tell the operating system to perform\n",
                "\n",
                "- The structure of a command is as follows: $ \\<command\\> [options]\n",
                "\n",
                "  - \\<command\\> is the task to be executed\n",
                "  \n",
                "  - [options] provides control over how the command is performed\n",
                "\n",
                "Here are some of the most commonly used commands for file navigation:"
            ]
        },
        {
            "cell_type": "markdown",
            "metadata": {},
            "source": [
                "| \\<command>    | Function| \n",
                "|---------------|----------|\n",
                "| `ls`          | Lists contents in current directory       |\n",
                "| `mkdir`        | Creates directories (folders)   |\n",
                "| `rm`           | Deletes specified file or directory      |\n",
                "| `cd`           | Changes the current working directory      |"
            ]
        },
        {
            "cell_type": "markdown",
            "metadata": {},
            "source": [
                "- To view the available options given a command, use the option `-h` or `--help` \n",
                "  \n",
                "  - **Test:** Open your terminal in VSCode and find the available options for the command `ls`\n",
                "    - Which option allows you to see all files in the directory?\n",
                "\n",
                "- **Tip:** To speed up your typing in terminal, you can press TAB once for autocomplete or TAB twice to show options if once does not autocomplete. The terminal can only autocomplete if it is 100% confident what you are trying to type. If there are multiple files that start out the same, then you have to type enough for it to distinguish which file you want.\n",
                "\n",
                "  - **Test:** Open your terminal in VSCode and type the command `cd` then 'spacebar' and press TAB twice. This shows the available options to change the directory to. Now type the letter 'p' after `cd` and press TAB to autocomplete into 'cd packages/'."
            ]
        },
        {
            "cell_type": "markdown",
            "metadata": {},
            "source": [
                "## Overview on Linux DIR\n",
                "\n",
                "\n",
                "\n",
                "\n",
                "<div style=\"display: flex; flex-direction: row;\">\n",
                "    <div style=\"flex: 50%; padding: 10px;\">\n",
                "      <img src=\"../assets/ex1-images/linux-directory.png\" alt=\"LinuxDirectory\">\n",
                "    </div>\n",
                "    <div style=\"flex: 50%; padding: 10px;\">\n",
                "\n",
                "- Root directory: /\n",
                "\n",
                "  - All paths build off of the root directory\n",
                "\n",
                "- Home directory: /home/\\<user\\>/ (or ~)\n",
                "\n",
                "  - Where your repositories are saved\n",
                "\n",
                "- Libraries: lib/\n",
                "\n",
                "  - Your installed libraries are located in the lib folder\n",
                "  \n",
                "- Programs: bin/\n",
                "\n",
                "  - Programs are located in bin folders\n",
                "\n",
                "**Note:** When using the `cd` command, using the `~` option takes you to your home directory and using `..` takes you to the parent of the current directory.\n",
                "\n",
                "If you use `.`, this creates a reference to your current directory.\n",
                "\n",
                "`pwd` returns the current file directory.\n",
                "    </div>\n",
                "</div>"
            ]
        }
    ],
    "metadata": {
        "kernelspec": {
            "display_name": "Python 3.8.10 64-bit",
            "language": "python",
            "name": "python3"
        },
        "language_info": {
            "codemirror_mode": {
                "name": "ipython",
                "version": 2
            },
            "file_extension": ".py",
            "mimetype": "text/x-python",
            "name": "python",
            "nbconvert_exporter": "python",
            "pygments_lexer": "ipython2",
            "version": "3.8.10"
        },
        "vscode": {
            "interpreter": {
                "hash": "916dbcbb3f70747c44a77c7bcd40155683ae19c65e1c03b4aa3499c5328201f1"
            }
        }
    },
    "nbformat": 4,
    "nbformat_minor": 0
}
