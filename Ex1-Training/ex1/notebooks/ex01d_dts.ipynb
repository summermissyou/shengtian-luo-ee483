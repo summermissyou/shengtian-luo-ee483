{
    "cells": [
        {
            "cell_type": "markdown",
            "metadata": {},
            "source": [
                "<p style=\"text-align: center;\">\n",
                "<strong>Disclaimer:</strong>\n",
                "This tutorial is an adaptation of the <a href=\"https://wiki.ros.org/ROS/Tutorials/\">Official ROS tutorial</a> originally released under <a href=\"http://creativecommons.org/licenses/by/3.0/\">Creative Commons Attribution 3.0</a> license.\n",
                "</p>"
            ]
        },
        {
            "cell_type": "markdown",
            "metadata": {},
            "source": [
                "# The DuckieTown Shell (dts)\n"
            ]
        },
        {
            "cell_type": "markdown",
            "metadata": {},
            "source": [
                "Our interface with the MMs\n",
                "\n",
                "- The duckietown shell will create the docker container for us\n",
                "- It will communicate with our MM and the Duckietown infrastructrure\n",
                "\n",
                "Basic two commands needed (for now)\n",
                "\n",
                "- dts code editor --recipe ../ex<number of exercise>-recipe\n",
                "\n",
                "- dts code workbench --recipe ../ex<number of exercise>-recipe [other options]\n",
                "\n"
            ]
        },
        {
            "cell_type": "markdown",
            "metadata": {},
            "source": [
                "## The dts code editor command\n",
                "\n",
                "- Spins up a browser-based development environment that can be used to work through the Learning Experience (LX) using VSCode.\n",
                "- We can run almost everything that we have access in this container\n",
                "- No visualization "
            ]
        },
        {
            "cell_type": "markdown",
            "metadata": {},
            "source": [
                "## Putting in practice\n",
                "\n",
                "From the directory ex1 run the command  \n",
                "```console\n",
                "foo@bar:ex1 % dts code editor --recipe ../ex1-recipe \n",
                "foo\n",
                "```\n",
                "\n",
                "- It might take some time the first time you run this command. \n",
                "- It should automatically open your browser with VS Code and the same files as in ex1\n",
                "- You can also access the VS Code witht the last html link.\n",
                "\n",
                "![meme-machine](../assets/ex1-images/dts-code-editor-vs-code-link.png) "
            ]
        },
        {
            "cell_type": "markdown",
            "metadata": {},
            "source": [
                "Explaining the dts code workbench \n",
                "\n",
                "- It creates a container with a visual interface (opens in the browser)\n",
                "    - Whenever we need to have visuals, we need to run dts code workbench\n",
                "\n",
                "\n",
                "- It can simulate a Duckiebot directed through a virtual world by your control algorithms\n",
                "    - dts code workbench --recipe ../ex<number of exercise>-recipe --sim\n",
                "    (More about that in the lab 1)\n",
                "\n",
                "- It can execute your code in a real MM\n",
                "    (More about that in the lab)\n"
            ]
        },
        {
            "cell_type": "markdown",
            "metadata": {},
            "source": [
                "## Putting in practice\n",
                "\n",
                "- From the directory ex1 run the command\n",
                "```bash\n",
                "foo@bar:ex1 % \n",
                "\n",
                "```\n"
            ]
        },
        {
            "cell_type": "code",
            "execution_count": null,
            "metadata": {
                "vscode": {
                    "languageId": "shellscript"
                }
            },
            "outputs": [],
            "source": [
                "dts code workbench --recipe ../ex1-recipe "
            ]
        },
        {
            "cell_type": "markdown",
            "metadata": {},
            "source": [
                "- It might take some time the first time you run this command. \n",
                "- An link will appear at the end similar to : https://localhost:55000\n",
                "- You should open this link. The Virtual environment will open.\n"
            ]
        }
    ],
    "metadata": {
        "kernelspec": {
            "display_name": "Python 3.8.10 64-bit",
            "language": "python",
            "name": "python3"
        },
        "language_info": {
            "codemirror_mode": {
                "name": "ipython",
                "version": 2
            },
            "file_extension": ".py",
            "mimetype": "text/x-python",
            "name": "python",
            "nbconvert_exporter": "python",
            "pygments_lexer": "ipython2",
            "version": "3.8.10"
        },
        "vscode": {
            "interpreter": {
                "hash": "916dbcbb3f70747c44a77c7bcd40155683ae19c65e1c03b4aa3499c5328201f1"
            }
        }
    },
    "nbformat": 4,
    "nbformat_minor": 0
}
