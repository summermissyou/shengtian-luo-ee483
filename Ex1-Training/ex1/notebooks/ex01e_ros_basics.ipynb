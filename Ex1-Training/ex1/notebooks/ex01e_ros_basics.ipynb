{
    "cells": [
        {
            "cell_type": "markdown",
            "metadata": {},
            "source": [
                "# The Robot Operating System (ROS)\n"
            ]
        },
        {
            "cell_type": "markdown",
            "metadata": {},
            "source": [
                "- ROS operates in a Linux environment (That's the reasoning behind choosing Linux)\n",
                "- The Duckietown Shell creates a container where ROS is already installed\n",
                "    - We are using the noetic distribution for this class"
            ]
        },
        {
            "cell_type": "markdown",
            "metadata": {},
            "source": [
                "## Catkin workspace\n",
                "\n",
                "A catkin workspace is a folder where you modify, build, and install catkin packages. \n",
                "\n",
                "A typical catkin workspace contains five directories, also called _spaces_: `src/`, `build/`, `logs/`, `devel/`, and `install/`, each serving a different role in the software development process.\n",
                "\n",
                "- Source Space\n",
                "The source space (`src/` directory) contains the source code organized in catkin packages. This is where you add source code for the packages you want to build. Each folder within the source space contains one or more catkin packages.\n",
                "\n",
                "- Build Space\n",
                "The build space (`build/` directory) is where catkin keeps its cache information and other intermediate files that result from the process of building (or compiling) a catkin workspace.\n",
                "\n",
                "- Logs Space\n",
                "The logs space (`logs/` directory) is where catkin keeps its logs of the build process. These contain all the `stdout` and `stderr` streams produced during the build process. This data is useful for debugging build errors.\n",
                "\n",
                "- Development (Devel) Space\n",
                "The development space (or devel space, `devel/` directory) is where built artifacts are placed prior to being installed.\n",
                "\n",
                "- Install Space\n",
                "Once artifacts are built, they are installed into the install space (`install/` directory). This is where binaries and libraries will be executed/imported from.\n",
                "\n",
                "- Default ROS Workspace\n",
                "\n",
                "You can have multiple catkin workspaces that are active at once.\n",
                "ROS brings its own catkin workspace when installed. In this tutorial we use **ROS Noetic**, which installs its workspace at the path `/opt/ros/noetic/share/`.\n",
                "\n",
                "**REMARK:** \n",
                "We will be using two workspaces.  \n",
                "One is for the **vs-code container** and one is for the **vnc container**.\n",
                "\n"
            ]
        },
        {
            "cell_type": "markdown",
            "metadata": {},
            "source": [
                "## ROS Packages, Nodes, Topics\n",
                "- ROS Packages\n",
                "\t- Smallest object that contains programs useful for other projects\n",
                "\t- In ROS, packages are inside a catkin workspace.  \n",
                "\tFor the vs-code container, packages are located inside the ex_workspace\n",
                "- ROS Nodes \n",
                "\t- Each executable in the package is a *node*.\n",
                "\t- Typically each Python script (unless used as a library) is a node.\n",
                "- ROS Topics \n",
                "\t- The way to connect two or more nodes.\n",
                "\t- It can pass information\n",
                "\t- Any node can start any topic"
            ]
        },
        {
            "cell_type": "markdown",
            "metadata": {},
            "source": [
                "<h6><p style=\"text-align: center;\">\n",
                "<strong>Disclaimer:</strong>\n",
                "This tutorial is an adaptation of the <a href=\"https://wiki.ros.org/ROS/Tutorials/\">Official ROS tutorial</a> originally released under <a href=\"http://creativecommons.org/licenses/by/3.0/\">Creative Commons Attribution 3.0</a> license and Prof. Robinette's EECE5560 UMass Lowell class.\n",
                "</p></h6>"
            ]
        }
    ],
    "metadata": {
        "kernelspec": {
            "display_name": "Python 3.8.10 64-bit",
            "language": "python",
            "name": "python3"
        },
        "language_info": {
            "codemirror_mode": {
                "name": "ipython",
                "version": 2
            },
            "file_extension": ".py",
            "mimetype": "text/x-python",
            "name": "python",
            "nbconvert_exporter": "python",
            "pygments_lexer": "ipython2",
            "version": "3.8.10"
        },
        "vscode": {
            "interpreter": {
                "hash": "916dbcbb3f70747c44a77c7bcd40155683ae19c65e1c03b4aa3499c5328201f1"
            }
        }
    },
    "nbformat": 4,
    "nbformat_minor": 0
}
