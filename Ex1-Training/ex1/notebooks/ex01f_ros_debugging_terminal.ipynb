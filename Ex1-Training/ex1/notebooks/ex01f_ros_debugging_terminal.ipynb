{
    "cells": [
        {
            "cell_type": "markdown",
            "metadata": {},
            "source": [
                "<div style=\"text-align: center;\">\n",
                "\n",
                "<h2 style= \"color:yellowgreen\">Fixing the intern's errors\n",
                "</h2>\n",
                "\n",
                "</div>\n",
                "An intern recently started working with ROS and generated the following code to move the turtle in the turtle simulator.\n",
                "The turtle is supposed to move foward and then backward.\n",
                "However, the intern only spent 1 day with the code and did not test it because they waited to the last day.\n",
                "You have taken the intern's place and it's now your job to fix their errors.\n",
                "\n",
                "Your tasks are:  \n",
                "\n",
                "A) Debug the given code  \n",
                "\n",
                "- Find possible errors using the ROS debugging tools  \n",
                "- Fix them until no errors occur when running  \n",
                "\n",
                "B) Test the code  \n",
                "\n",
                "- The turtle should move forward and then backward\n",
                "\n",
                "\n",
                "Below you can see the intern code. \n",
                "The code is located in folder ./ex_workspace/src/intern_pkg/src/move_turtle.py\n",
                "\n",
                "The following training instructions will get you up to speed with ros debugging and allow you to fix the intern's code."
            ]
        },
        {
            "cell_type": "markdown",
            "metadata": {},
            "source": [
                "\n",
                "<div style=\"text-align: center;\">\n",
                "<h2 style= \"color:tomato\">Training Instructions</h2>\n",
                "</div>\n",
                "\n",
                "## <emph style=\"color:seagreen\">1) Executing the code with rosrun</emph>\n",
                "\n",
                "<ol> \n",
                "<li> Run the following code to generate the VS-Code container</li>\n",
                "\n",
                "- Ensure that your terminal is located in the ex1 folder by using the `cd` command"
            ]
        },
        {
            "cell_type": "code",
            "execution_count": null,
            "metadata": {
                "vscode": {
                    "languageId": "shellscript"
                }
            },
            "outputs": [],
            "source": [
                "dts code editor --recipe ../ex1-recipe"
            ]
        },
        {
            "cell_type": "markdown",
            "metadata": {},
            "source": [
                "---\n",
                "\n",
                "- **Error Note:** If you get an error saying \"An SSL key pair needs to be generated first...\" then run the following command:"
            ]
        },
        {
            "cell_type": "code",
            "execution_count": null,
            "metadata": {
                "vscode": {
                    "languageId": "shellscript"
                }
            },
            "outputs": [],
            "source": [
                "dts setup mkcert"
            ]
        },
        {
            "cell_type": "markdown",
            "metadata": {},
            "source": [
                "- **Error Note:** If you get another error saying you need the system library 'libnss3-tools', use the following code to download the library:"
            ]
        },
        {
            "cell_type": "code",
            "execution_count": null,
            "metadata": {
                "vscode": {
                    "languageId": "shellscript"
                }
            },
            "outputs": [],
            "source": [
                "sudo apt install libnss3-tools"
            ]
        },
        {
            "cell_type": "markdown",
            "metadata": {},
            "source": [
                "---\n",
                "\n",
                "<li> Open a terminal in the VS-Code container (in the browser). </li>\n",
                "\n",
                "![vscode](../assets/ex1-images/vscode.png)\n",
                "\n",
                "- To open a terminal, select the three lines in the top left --> Terminal --> New Terminal \n",
                "\n",
                "**Note:** When we write \"`open new terminal`\", it means a new terminal in the VS-Code container and **not** in your host OS. \n",
                "\n",
                "\n",
                "\n",
                "<li> Build and source the packages in the ex_workspace running </li>\n"
            ]
        },
        {
            "cell_type": "code",
            "execution_count": null,
            "metadata": {
                "vscode": {
                    "languageId": "shellscript"
                }
            },
            "outputs": [],
            "source": [
                "cd ex1/ex_workspace; catkin build; source devel/setup.bash"
            ]
        },
        {
            "cell_type": "markdown",
            "metadata": {},
            "source": [
                "1. **Workspace Note:** In the VS-Code container, our catkin workspace will always be `ex_workspace`. \n",
                "It is important that we run the command `catkin build` from inside the directory. \n",
                "The build process should complete within a few seconds and the summary should report that `4` packages were built.\n",
                "\n",
                "2. **Catkin Note:** When we move into VNC container in the next section and when we use duckiebot, we will use the standard `catkin_ws` instead of ex_workspace.\n",
                "\n",
                "3. **Source Note:** If everything goes well, this command should return without any errors or output.\n",
                "\n",
                "\n",
                "## Running ROS package\n",
                "\n",
                "The intern already created a ROS package. \n",
                "\n",
                "It is called the *intern_pkg* package. \n",
                "We will see more information about ROS packages in the future. \n",
                "For now, let's us run the `intern_pkg`\n",
                "\n",
                "\n",
                "<ol type=\"a\">\n",
                "<li>Start ROS. In a terminal, run:</li>\n"
            ]
        },
        {
            "cell_type": "code",
            "execution_count": null,
            "metadata": {
                "vscode": {
                    "languageId": "shellscript"
                }
            },
            "outputs": [],
            "source": [
                "roscore"
            ]
        },
        {
            "cell_type": "markdown",
            "metadata": {},
            "source": [
                "Open a `new terminal`, activate the workspace (sourcing), and try to run the intern's code:\n"
            ]
        },
        {
            "cell_type": "code",
            "execution_count": null,
            "metadata": {
                "vscode": {
                    "languageId": "shellscript"
                }
            },
            "outputs": [],
            "source": [
                "source devel/setup.bash\n",
                "rosrun intern_pkg turtle_move.py"
            ]
        },
        {
            "cell_type": "markdown",
            "metadata": {},
            "source": [
                "Yep, it does not work.  \n",
                "Use the error message to fix the first error.  \n",
                "The package files can be found in ex1 --> ex_workspace --> src --> intern_pkg --> src.  \n",
                "Take note of the error you will fix, e.g., add a comment to the modification you have done in the code.  \n",
                "**Hint:** It looks like the intern forgot to define a variable. \n",
                "\n",
                "**Note:** `rosrun` allows you to use the package name to directly run a _node_ from a _package_ (without having to know the package path).\n",
                "\n",
                "Usage:\n",
                "\n",
                "    rosrun [package_name] [node_name]\n",
                "\n",
                "- Once you have fixed the errors, you should be able to run the package using the previous code\n",
                "\n",
                "You should see printed messages such as the following:\n",
                "\n",
                "<br><img src=\"../assets/ex1-images/turtle_move_print.png\" style=\"width: 80%; height: auto;\"></br>\n",
                "\n",
                "</li>\n",
                "\n",
                "</ol>\n",
                "</ol>\n",
                "\n",
                "\n",
                "Great start.  \n",
                "Once your code is running, we can move on with our debugging.  \n",
                "However, we need to learn more about some debugging tools in ROS.  \n",
                "**Note:** You can stop the *intern_pkg* by pressing CTRL+C in the terminal.  \n"
            ]
        },
        {
            "cell_type": "markdown",
            "metadata": {},
            "source": [
                "## <emph style=\"color:seagreen\">2) ROS Nodes</emph>\n",
                "\n",
                "Open up a **new terminal**, and let's use `rosnode` to see what running `roscore` did... Bear in mind to keep the previous terminal open by opening a new terminal.\n",
                "\n",
                "`rosnode` displays information about the ROS nodes that are currently running. The `rosnode list` command lists these active nodes:\n"
            ]
        },
        {
            "cell_type": "code",
            "execution_count": null,
            "metadata": {
                "vscode": {
                    "languageId": "shellscript"
                }
            },
            "outputs": [],
            "source": [
                "rosnode list"
            ]
        },
        {
            "cell_type": "markdown",
            "metadata": {},
            "source": [
                "\n",
                "You will see:\n",
                "\n",
                "    /rosout\n",
                "\n",
                "This showed us that there is only one node running: `rosout`. This is always running as it collects and logs nodes' debugging output.\n",
                "\n",
                "If you are still running the intern_pkg:\n",
                "\n",
                "    /rosout\n",
                "    /turtle_move\n",
                "\n",
                "\n",
                "The `rosnode info` command returns information about a specific node.\n",
                "\n",
                "    rosnode info /rosout\n",
                "\n",
                "This gave us some more information about `rosout`, such as the fact that it publishes to the topic `/rosout_agg`.\n",
                "\n",
                "```bash\n",
                "------------------------------------------------------------------------\n",
                "Node [/rosout]\n",
                "Publications:\n",
                "    * /rosout_agg [rosgraph_msgs/Log]\n",
                "\n",
                "Subscriptions:\n",
                "    * /rosout [unknown type]\n",
                "\n",
                "Services:\n",
                "    * /rosout/get_loggers\n",
                "    * /rosout/set_logger_level\n",
                "\n",
                "contacting node http://machine_name:54614/ ...\n",
                "Pid: 5092\n",
                "```\n",
                "\n",
                "## Review\n",
                "\n",
                "What was covered:\n",
                "\n",
                "- `roscore` = ros+core : master (provides name service for ROS) + rosout (stdout/stderr) + parameter server (parameter server will be introduced later)\n",
                "- `rosnode` = ros+node : ROS tool to get information about a node.\n",
                "- `rosrun` = ros+run : runs a node from a given package. \n",
                "\n",
                "Now that you understand how ROS nodes work, let's look at how ROS topics work. Also, feel free to press `Ctrl`- `C` to stop running `roscore` or `rosrun`. \n",
                "\n",
                "\n",
                " \n",
                "\n"
            ]
        },
        {
            "cell_type": "markdown",
            "metadata": {},
            "source": [
                "## <emph style=\"color:seagreen\">3) ROS Topics</emph>\n",
                "\n",
                "*ROS topics* help communicate information among ROS nodes.  \n",
                "For example, the *turtle_move* node is publishing to the topic `/turtle1/cmd_vel`.  \n",
                "This node is suppose to publish a velocity to the topic for the turtle to move.  \n",
                "*More about this in a bit*\n",
                "\n",
                "\n",
                "### Introducing rostopic\n",
                "\n",
                "The rostopic tool allows you to get information about ROS **topics**.\n",
                "\n",
                "You can use the help option to get the available sub-commands for rostopic\n"
            ]
        },
        {
            "cell_type": "code",
            "execution_count": null,
            "metadata": {
                "vscode": {
                    "languageId": "shellscript"
                }
            },
            "outputs": [],
            "source": [
                "rostopic -h"
            ]
        },
        {
            "cell_type": "markdown",
            "metadata": {},
            "source": [
                "\n",
                "\n",
                "\n",
                "-   ```\n",
                "    rostopic bw     display bandwidth used by topic\n",
                "    rostopic echo   print messages to screen\n",
                "    rostopic hz     display publishing rate of topic    \n",
                "    rostopic list   print information about active topics\n",
                "    rostopic pub    publish data to topic\n",
                "    rostopic type   print topic type\n",
                "    ```\n",
                "<ol>\n",
                "\n",
                "<li>Using rostopic list </li>\n",
                "\n",
                "rostopic list returns a list of all topics currently subscribed to and published.\n",
                "\n",
                "**Note:** If you closed roscore and the rosrun turtle_move.py from the intern package, run roscore and the turtle_move node as in part **1**\n",
                "\n",
                "**In a new terminal, run:**\n"
            ]
        },
        {
            "cell_type": "code",
            "execution_count": null,
            "metadata": {
                "vscode": {
                    "languageId": "shellscript"
                }
            },
            "outputs": [],
            "source": [
                "rostopic list -v"
            ]
        },
        {
            "cell_type": "markdown",
            "metadata": {},
            "source": [
                "\n",
                "This displays a verbose list of topics to publish to and subscribe to and their type.\n",
                "Something like: \n",
                "\n",
                "```bash\n",
                "  Published topics:\n",
                "    * /rosout [rosgraph_msgs/Log] 2 publishers\n",
                "    * /rosout_agg [rosgraph_msgs/Log] 1 publisher\n",
                "    * /turtle1/cmd_vel [geometry_msgs/Twist] 1 publisher\n",
                "  \n",
                "  Subscribed topics:\n",
                "    * /rosout [rosgraph_msgs/Log] 1 subscriber\n",
                "```\n",
                "\n",
                "The information in the brackets is the type of message the topic publishes or subscribes. \n",
                "We can look at the details of the message using rosmsg:\n"
            ]
        },
        {
            "cell_type": "code",
            "execution_count": null,
            "metadata": {
                "vscode": {
                    "languageId": "shellscript"
                }
            },
            "outputs": [],
            "source": [
                "rosmsg show geometry_msgs/Twist"
            ]
        },
        {
            "cell_type": "markdown",
            "metadata": {},
            "source": [
                "<li>Using rostopic echo </li>\n",
                "\n",
                "rostopic echo shows the data published on a topic.\n"
            ]
        },
        {
            "cell_type": "code",
            "execution_count": null,
            "metadata": {
                "vscode": {
                    "languageId": "shellscript"
                }
            },
            "outputs": [],
            "source": [
                "rostopic echo [topic]"
            ]
        },
        {
            "cell_type": "markdown",
            "metadata": {},
            "source": [
                "\n",
                "- Change [topic] to the topic whose data you want to see\n",
                "\n",
                "**Note:** If you closed roscore and the rosrun turtle_move.py from the intern package, run roscore and the turtle_move node as in part **1**\n",
                "\n",
                "**In a new terminal, run:**\n"
            ]
        },
        {
            "cell_type": "code",
            "execution_count": null,
            "metadata": {
                "vscode": {
                    "languageId": "shellscript"
                }
            },
            "outputs": [],
            "source": [
                "rostopic echo turtle1/cmd_vel"
            ]
        },
        {
            "cell_type": "markdown",
            "metadata": {},
            "source": [
                "- Press CTRL+C to exit out of echo"
            ]
        },
        {
            "cell_type": "markdown",
            "metadata": {},
            "source": [
                "<p style=\"text-align: center;\">\n",
                "<strong>Disclaimer:</strong>\n",
                "This tutorial is an adaptation of the <a href=\"https://wiki.ros.org/ROS/Tutorials/\">Official ROS tutorial</a> originally released under <a href=\"http://creativecommons.org/licenses/by/3.0/\">Creative Commons Attribution 3.0</a> license.\n",
                "</p>"
            ]
        }
    ],
    "metadata": {
        "kernelspec": {
            "display_name": "Python 3.8.10 64-bit",
            "language": "python",
            "name": "python3"
        },
        "language_info": {
            "codemirror_mode": {
                "name": "ipython",
                "version": 2
            },
            "file_extension": ".py",
            "mimetype": "text/x-python",
            "name": "python",
            "nbconvert_exporter": "python",
            "pygments_lexer": "ipython2",
            "version": "3.8.10"
        },
        "vscode": {
            "interpreter": {
                "hash": "916dbcbb3f70747c44a77c7bcd40155683ae19c65e1c03b4aa3499c5328201f1"
            }
        }
    },
    "nbformat": 4,
    "nbformat_minor": 0
}
