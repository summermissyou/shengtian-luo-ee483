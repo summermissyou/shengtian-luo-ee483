{
    "cells": [
        {
            "cell_type": "markdown",
            "metadata": {},
            "source": [
                "<div style=\"text-align: center;\">\n",
                "\n",
                "<h2 style= \"color:yellowgreen\">Recap: Fixing the intern's errors\n",
                "</h2>\n",
                "</div>\n",
                "\n",
                "**Recalling our task:** An intern recently started working with ROS and generated the following code to move the turtle in the turtle simulator. The turtle is supposed to move foward and then backward. However, the intern only spent 1 day with the code and did not test it because they waited to the last day. You have taken the intern's place and it's now your job to fix their errors.\n",
                "\n",
                "Your tasks are:  \n",
                "\n",
                "A) Debug the given code  \n",
                "\n",
                "- Find possible errors using the ROS debugging tools  \n",
                "- Fix them until no errors occur when running  \n",
                "\n",
                "B) Test the code  \n",
                "\n",
                "- The turtle should move forward and then backward"
            ]
        },
        {
            "cell_type": "markdown",
            "metadata": {},
            "source": [
                "<div style=\"text-align: center;\">\n",
                "<h2 style=\"color:lightcoral\"> Making the Turtle move forward and backwards with the intern code</h2>\n",
                "</div>\n",
                "\n",
                "\n",
                "\n",
                "Using the debugging tools such as rqt_graph, rosnode, rostopic echo, etc.\n",
                "\n",
                "So far you have gotten the code to run with no errors. But the turtle will not move forward or backward on it's own.\n",
                "\n",
                "1.  Discover why the intern's code does not move the turtle and fix the error. **Hint:** It's related to the topics.\n",
                "\n",
                "    - Write down the reason for it not moving and how did you discover it, i.e., which ROS debugging tools did you use (There are many options here).\n",
                "\n",
                "2. Make the turtle move forward and backward. (Write down any other errors that you have encountered) **Hint:** Before this point, you should have found two errors. \n",
                "\n",
                "\t- Error that turtle_move.py wasn't executing\n",
                "  \n",
                "   \t- Error related to turtle_move.py not moving the turtlesim.\n",
                "\t\n",
                "Yes, there are more than 2 errors 😁\n",
                "\n",
                "***REMARK:*** When you modify the code in the VS-Code container, it does not automatically update in the VNC container. So, if you change something in the VS-Code container, you will need:\n",
                "1. Close the VNC container (in the hostOS terminal)\n",
                "2. Rerun ``dts code workbench --recipe ../ex1-recipe`` for changes to take effect (in the hostOS terminal)\n",
                "3. Follow similar steps as described above to initiate ROS, catkin workspace, simulator, etc - running catkin build, roscore, rosrun, etc.\n"
            ]
        },
        {
            "cell_type": "markdown",
            "metadata": {},
            "source": [
                "### Best Practices\n",
                "\n",
                "1. Remember to build the workspace `catkin build` - Every time you open a new container terminal\n",
                "2. Remember to activate the workspace `source devel/setup.bash` - Every time you open a new tab (Assuming the terminal is in the workspace folder).\n",
                "3. Remember - `vscode container -> ex_workspace` and `vnc container -> catkin_ws`\n",
                "4. Remember to rerun `dts code workbench --recipe ../ex1-recipe` for every time you modified your code (See Testing workflow).\n",
                "\n",
                "\n",
                "### Testing workflow\n",
                "\n",
                "It is easier to test in the vs-code container - You don't need to rerun `dts code editor` when you modify your code compared to `workbench`.\n",
                "\n",
                "Test in the vs-code container and make sure that you can run your code and you are publishing/subscribing to the correct topics. \n",
                "\n",
                "After your code is running, you can test in the vnc container to get the visuals with the turtle simulator.\n",
                "\n",
                "**Workflow**\n",
                "1. Run code in VS Code container. If it is executing go to the next step.\n",
                "2. Debug to see if your node is publishing the subscring to the topics you want. If 'Yes', then go to the next step.\n",
                "3. Run the VNC container and test your code with the simulator. If it is working as desirable - Great you are done! \n",
                "4. If not working as desirable, debug using the debugging tools. Once the error is found, update code in the VS code container and go back to step 1.\n",
                "\n",
                "\n",
                "**Note:** In this first training exercise, we included a lot of details about all the necessary steps.  \n",
                "In the next tasks, some of the steps will be omitted to simplify reading the directions.  \n",
                "For example, we will omit the part of running `roscore`, `catkin_build` and activating the workspace before executing any code."
            ]
        }
    ],
    "metadata": {
        "kernelspec": {
            "display_name": "Python 3.8.10 64-bit",
            "language": "python",
            "name": "python3"
        },
        "language_info": {
            "codemirror_mode": {
                "name": "ipython",
                "version": 2
            },
            "file_extension": ".py",
            "mimetype": "text/x-python",
            "name": "python",
            "nbconvert_exporter": "python",
            "pygments_lexer": "ipython2",
            "version": "3.8.10"
        },
        "vscode": {
            "interpreter": {
                "hash": "916dbcbb3f70747c44a77c7bcd40155683ae19c65e1c03b4aa3499c5328201f1"
            }
        }
    },
    "nbformat": 4,
    "nbformat_minor": 0
}
