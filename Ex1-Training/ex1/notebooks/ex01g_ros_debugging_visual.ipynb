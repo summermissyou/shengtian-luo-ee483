{
    "cells": [
        {
            "cell_type": "markdown",
            "metadata": {},
            "source": [
                "<div style=\"text-align: center;\">\n",
                "<h2 style= \"color:tomato\">Training Instructions - Continued</h2>\n",
                "</div>\n",
                "\n",
                "**By now, you should be able to run `turtle_move.py` in the VS-Ccode container**"
            ]
        },
        {
            "cell_type": "markdown",
            "metadata": {},
            "source": [
                "## <emph style=\"color:seagreen\">4) Visualizing the TurtleSim<emph>\n",
                "\n",
                "So far, we are able to run nodes in the VS-Code container.  \n",
                "However, the VS-Code container does not have a graphical environment (an easy way to see what the code is doing).  \n",
                "Keep in mind the intern wanted to make the turtle move.  \n",
                "We will now:\n",
                "- See if the intern's code makes the turtle move as wanted: Going forward and backward\n",
                "- Learn about a visual debugging tool called rqt_plot\n",
                "\n",
                "\n",
                "To launch the code, you can run the following command in the terminal **of your laptop** (not the terminal in VS-Code container!).  \n",
                "However, leave the VS-Code container open from the previous instructions. Ensure you are in the directory of ex1.\n"
            ]
        },
        {
            "cell_type": "code",
            "execution_count": null,
            "metadata": {
                "vscode": {
                    "languageId": "shellscript"
                }
            },
            "outputs": [],
            "source": [
                "dts code workbench --recipe ../ex1-recipe"
            ]
        },
        {
            "cell_type": "markdown",
            "metadata": {},
            "source": [
                "This will spin up a container with ROS installed. A link will appear in the terminal that, when clicked, will open a lightweight VNC (Virtual Network Computer) desktop environment. \n",
                "\n",
                "- A VNC will allow us to run our code and see the graphical output in a stable and replicable environment\n",
                "\n",
                "**Note**: Please open the link with Chrome rather than Firefox.\n",
                "\n",
                "### **Running code in the VNC container**\n",
                "\n",
                "<ol>\n",
                "<li> On the Desktop you will have several icons. To open a terminal, use `LXTerminal`.</li>\n",
                "\n",
                "\n",
                "<br><img src=\"../assets/desktop_icons.png\" style=\"width: 20%; height: auto;\"></br>\n",
                "<!-- ![desktop_icons](../../assets/desktop_icons.png) -->\n",
                "\n",
                "**Note:** In the VNC container, instead of using ex_workspace to hold the packages it uses the catkin_ws folder. The folder location is: `/code/catkin_ws/`\n",
                "\n",
                "<li> Building and activating the catkin_ws</li>\n"
            ]
        },
        {
            "cell_type": "code",
            "execution_count": null,
            "metadata": {
                "vscode": {
                    "languageId": "shellscript"
                }
            },
            "outputs": [],
            "source": [
                "cd /code/catkin_ws\n",
                "catkin build\n",
                "source devel/setup.bash"
            ]
        },
        {
            "cell_type": "markdown",
            "metadata": {},
            "source": [
                "**Note:** This time more packages will be built. You should be able to see the intern_pkg as one of them.\n",
                "\n",
                "3. In the same terminal run roscore\n"
            ]
        },
        {
            "cell_type": "code",
            "execution_count": null,
            "metadata": {
                "vscode": {
                    "languageId": "shellscript"
                }
            },
            "outputs": [],
            "source": [
                "roscore"
            ]
        },
        {
            "cell_type": "markdown",
            "metadata": {},
            "source": [
                "4. Open a new LXterminal tab - Let's run the turtlesim\n",
                "\n",
                "`File->New Tab` in the VNC terminal\n",
                "\n",
                "The new terminal should open in the catkin_ws folder. If it *does not*, then navigate to the catkin_ws: cd /code/catkin_ws\n"
            ]
        },
        {
            "cell_type": "code",
            "execution_count": null,
            "metadata": {
                "vscode": {
                    "languageId": "shellscript"
                }
            },
            "outputs": [],
            "source": [
                "source devel/setup.bash\n",
                "rosrun turtlesim turtlesim_node"
            ]
        },
        {
            "cell_type": "markdown",
            "metadata": {},
            "source": [
                "You will see the turtlesim window (the turtle may look different):\n",
                "<br><img src=\"../assets/turtlesim.png\" style=\"width: 40%; height: auto;\"></br>\n",
                "</ol>\n"
            ]
        },
        {
            "cell_type": "markdown",
            "metadata": {},
            "source": [
                "<ol start=\"5\">\n",
                "<li>Let's check if the intern's code moves the turtle\n",
                "</li>\n",
                "\n",
                "Make sure you run the intern package **in a new LXterminal tab**:"
            ]
        },
        {
            "cell_type": "code",
            "execution_count": null,
            "metadata": {
                "vscode": {
                    "languageId": "shellscript"
                }
            },
            "outputs": [],
            "source": [
                "source devel/setup.bash\n",
                "rosrun intern_pkg turtle_move.py"
            ]
        },
        {
            "cell_type": "markdown",
            "metadata": {},
            "source": [
                "Did it move?\n",
                "\n",
                "6. Investigate the running topics by using rqt_graph\n",
                "\n",
                "**In a new LXterminal tab** - I know, we have a lot of terminals open now. There should be 4 terminal tabs!\n"
            ]
        },
        {
            "cell_type": "code",
            "execution_count": null,
            "metadata": {
                "vscode": {
                    "languageId": "shellscript"
                }
            },
            "outputs": [],
            "source": [
                "rqt_graph"
            ]
        },
        {
            "cell_type": "markdown",
            "metadata": {},
            "source": [
                "You will see something similar to:\n",
                "<br><img src=\"../assets/ex1-images/rqt_turtle_move.png\" style=\"width: 60%; height: auto;\"></br>\n",
                "\n",
                "\n",
                "How does this graph tell us why the turtle isn't moving?\n",
                "</ol>\n",
                "\n",
                "Close the rqt_graph by clicking the 'x' in the top right.\n"
            ]
        },
        {
            "cell_type": "markdown",
            "metadata": {},
            "source": [
                "\n",
                "7. Let's try to manually drive the turtle around.\n",
                "\n",
                "First terminate the intern_pkg by going to the tab running the package and pressing `Ctr+C`. Leave the old turtlesim running.\n",
                "\n",
                "To start a node to control the turtle:\n"
            ]
        },
        {
            "cell_type": "code",
            "execution_count": null,
            "metadata": {
                "vscode": {
                    "languageId": "shellscript"
                }
            },
            "outputs": [],
            "source": [
                "rosrun turtlesim turtle_teleop_key"
            ]
        },
        {
            "cell_type": "markdown",
            "metadata": {},
            "source": [
                "Now you can use the arrow keys of the keyboard to drive the turtle around. If you can not drive the turtle, **select the terminal window of the turtle\\_teleop\\_key** to make sure that your keys are recorded by the terminal.\n",
                "\n",
                "8. Let's check the rqt_graph now.\n",
                "\n",
                "**In a new LXterminal tab** - I know, we have a lot of terminals open now\n",
                "There should be 4 terminal tabs!\n"
            ]
        },
        {
            "cell_type": "code",
            "execution_count": null,
            "metadata": {
                "vscode": {
                    "languageId": "shellscript"
                }
            },
            "outputs": [],
            "source": [
                "rqt_graph"
            ]
        },
        {
            "cell_type": "markdown",
            "metadata": {},
            "source": [
                "You will see something similar to:\n",
                "\n",
                "<br><img src=\"../assets/ex1-images/rqt_turtle_key.png\" style=\"width: 60%; height: auto;\"></br>\n",
                "\n",
                "What's the difference between this rqt_graph versus the one running the intern's code?\n",
                "\n",
                "If you place your mouse over /turtle1/command\\_velocity it will highlight the ROS nodes (blue and green) and topics (red). As you can see, the turtlesim\\_node and the turtle\\_teleop\\_key nodes are communicating through the topic named /turtle1/command\\_velocity.\n",
                "\n",
                "9. Let's check the current topics running\n",
                "\n",
                "\n",
                "**In a new LXterminal tab** - Tab number 5 😅!\n"
            ]
        },
        {
            "cell_type": "code",
            "execution_count": null,
            "metadata": {
                "vscode": {
                    "languageId": "shellscript"
                }
            },
            "outputs": [],
            "source": [
                "rostopic list -v"
            ]
        },
        {
            "cell_type": "markdown",
            "metadata": {},
            "source": [
                "**Note:** Pay attention to the Published and Subscribed topics.\n",
                "\n",
                "You can also use the `rostopic echo [topic name]` to see if information is flowing when you press a key.\n",
                "\n",
                "</ol>"
            ]
        },
        {
            "cell_type": "markdown",
            "metadata": {},
            "source": [
                "<p style=\"text-align: center;\">\n",
                "<strong>Disclaimer:</strong>\n",
                "This tutorial is an adaptation of the <a href=\"https://wiki.ros.org/ROS/Tutorials/\">Official ROS tutorial</a> originally released under <a href=\"http://creativecommons.org/licenses/by/3.0/\">Creative Commons Attribution 3.0</a> license.\n",
                "</p>"
            ]
        }
    ],
    "metadata": {
        "kernelspec": {
            "display_name": "Python 3.8.10 64-bit",
            "language": "python",
            "name": "python3"
        },
        "language_info": {
            "codemirror_mode": {
                "name": "ipython",
                "version": 2
            },
            "file_extension": ".py",
            "mimetype": "text/x-python",
            "name": "python",
            "nbconvert_exporter": "python",
            "pygments_lexer": "ipython2",
            "version": "3.8.10"
        },
        "vscode": {
            "interpreter": {
                "hash": "916dbcbb3f70747c44a77c7bcd40155683ae19c65e1c03b4aa3499c5328201f1"
            }
        }
    },
    "nbformat": 4,
    "nbformat_minor": 0
}
