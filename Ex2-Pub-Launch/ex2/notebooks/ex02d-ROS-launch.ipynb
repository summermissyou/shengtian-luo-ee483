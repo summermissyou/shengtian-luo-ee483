{
    "cells": [
        {
            "cell_type": "markdown",
            "metadata": {},
            "source": [
                "<div style=\"text-align: center;\">\n",
                "\n",
                "<h1 style= \"color:yellowgreen\">ROS launch files and Namespaces\n",
                "</h1>\n",
                "\n",
                "</div>\n",
                "\n",
                "\n",
                "<h2 style= \"color:coral\"> Launch file structure\n",
                "</h2>\n",
                "\n",
                "Below, we have an example of a launch file with descriptions on each line"
            ]
        },
        {
            "cell_type": "code",
            "execution_count": null,
            "metadata": {
                "vscode": {
                    "languageId": "xml"
                }
            },
            "outputs": [],
            "source": [
                "<launch>\n",
                "\n",
                "<include file = \"$(find <pkg name>)/launch/<launch_file>.launch\"/>\n",
                "<!-- Calling launch files from other packages -->\n",
                "\n",
                "<group ns = \"<group_name>\"> \n",
                "<!-- Creating a group to group nodes. This afect the namespace of the topics -->\n",
                "<node pkg = \"<pkg name>\" name= \"<node name>\" type = \"my_node_script1.py\"/>\n",
                "<!-- Running node my_node_script1.py from package <pkg_name> -->\n",
                "<node pkg = \"<pkg name>\" name= \"<node name>\" type = \"my_node_script2.py\"/>\n",
                "<!-- Running node my_node_script2.py from package <pkg_name> -->\n",
                "<node pkg=”rqt_graph” name=”rqt_graph” type=”rqt_graph” />\n",
                "<!-- Opens rqt_graph -->\n",
                "\n",
                "<node pkg=”rostopic” name=”rostopic” type=”rostopic” output=”screen” args=”echo output_topic” />\n",
                "<!-- Echos the output_topic -->\n",
                "</group>"
            ]
        },
        {
            "cell_type": "markdown",
            "metadata": {},
            "source": [
                "Steps to add a launch file\n",
                "\n",
                "1. Open the vscode container (VSCODE IN YOUR BROWSER) if not opened already.  \n",
                "Running the command below in your HostOS terminal  \n",
                "***RUN THE COMMAND IN THE HOST OS (VM) TERMINAL***  \n",
                "\n",
                "`dts code editor --recipe ../ex2-recipe`  \n",
                "\n",
                "Recall that you need to be inside `ex2` dir to run this command.  \n",
                "Otherwise, it will show you an error about not being a dt project.  \n",
                "\n",
                "---\n",
                "***THE NEXT STEPS ARE INSIDE THE VSCODE IN YOUR BROWSER***\n",
                "\n",
                "2. Inside the desired package folder create a folder called `launch`.\n",
                "You can either do using the vscode container. Or using the terminal with command `mkdir <foldername>`.\n",
                "\n",
                "**Note:** Make sure you are creating the `launch` folder inside the package. \n",
                "For example, for my `my_first_pkg`, I would create a folder inside the folder `my_first_pkg`.\n",
                "\n",
                "<br><img src=\"../assets/ex2-imgs/launch-folder.png\" style=\"width: 25%; height: auto;\"></br>\n",
                "\n",
                "3. Create a new launch file using the vscode container: `my_launcher.launch`. \n",
                "You can name it as you wish.\n",
                "\n",
                "4. Copy the template above and replace with the packages, and nodes you want.\n",
                "\n",
                "5. Open a terminal in the vs-code container. \n",
                "The command `roslaunch my_first_pkg my_launcher.launch` will run the launch file.   \n",
                "It runs all the nodes and other launchers you want in one terminal.   \n",
                "No more need for 5 tabs running ROS commands 😅\n",
                "\n",
                "<br><img src=\"../assets/ex2-imgs/meme-tabs.jpg\" style=\"width: 25%; height: auto;\"></br>"
            ]
        },
        {
            "cell_type": "markdown",
            "metadata": {},
            "source": [
                "<h2 style= \"color:coral\"> ROS Namespaces\n",
                "</h2>\n",
                "\n",
                "- A way to organize nodes/topics\n",
                "- It can be used to group nodes and topics together logically.  \n",
                "For example, the template launch file groups the nodes from `<pkg name>` together\n",
                "\n",
                "- Put related nodes/scripts in same namespace\n",
                "\n",
                "- Can start multiple nodes with the same name in different namespaces\n",
                "    - `/namespace_a/node_a`\n",
                "    - `/namespace_b/node_a`\n",
                "    Same node name but different namespaces.\n",
                "- It helps to keep things clean and easy to understand\n",
                "\n",
                "- Examples\n",
                "\n",
                "<br><img src=\"../assets/ex2-imgs/ros-namespaces.png\" style=\"width: 75%; height: auto;\"></br>\n",
                "\n",
                "Here we are looking at the topic namespace. \n",
                "\n",
                "- Leftmost figure shows a topic with namespace in `\\`, i.e., not in a group.\n",
                "\n",
                "- Center figure shows a topic with namespace in `\\group_name`, i.e., topics defined within your group.\n",
                "\n",
                "- Rightmost figure shows a topic with namespace in `\\group_name\\node_name`, i.e., topics are defined based on group and nodes.\n",
                "\n",
                "**NOTE:** In the launch file above, we grouped two nodes within the `<group name>`.  \n",
                "If you create a topic in my_node_script_1 with name `topic_name`, the topic will be named  `\\<group name>\\topic_name` when you launch the launch file (When you use roslaunch).  \n",
                "However, if you run the script using rosrun, the topic name will be `topic_name` (No group name).\n",
                "\n",
                "\n",
                "\n",
                "\n",
                "\n"
            ]
        },
        {
            "cell_type": "markdown",
            "metadata": {},
            "source": [
                "<h6><p style=\"text-align: center;\">\n",
                "<strong>Disclaimer:</strong>\n",
                "This tutorial is an adaptation of Prof. Robinette's EECE5560 UMass Lowell class.\n",
                "</p></h6>"
            ]
        }
    ],
    "metadata": {
        "kernelspec": {
            "display_name": "Python 3.8.10 64-bit",
            "language": "python",
            "name": "python3"
        },
        "language_info": {
            "codemirror_mode": {
                "name": "ipython",
                "version": 2
            },
            "file_extension": ".py",
            "mimetype": "text/x-python",
            "name": "python",
            "nbconvert_exporter": "python",
            "pygments_lexer": "ipython2",
            "version": "3.8.10"
        },
        "vscode": {
            "interpreter": {
                "hash": "916dbcbb3f70747c44a77c7bcd40155683ae19c65e1c03b4aa3499c5328201f1"
            }
        }
    },
    "nbformat": 4,
    "nbformat_minor": 0
}
