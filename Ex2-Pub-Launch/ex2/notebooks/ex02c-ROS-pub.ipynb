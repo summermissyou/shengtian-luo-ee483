{
    "cells": [
        {
            "cell_type": "markdown",
            "metadata": {},
            "source": [
                "<div style=\"text-align: center;\">\n",
                "\n",
                "<h1 style= \"color:yellowgreen\"> Example ROS Publisher\n",
                "</h1>\n",
                "\n",
                "</div>\n",
                "\n",
                "The following code creates a publisher (\"talker\") node which will continually broadcast a message to a topic."
            ]
        },
        {
            "cell_type": "code",
            "execution_count": null,
            "metadata": {},
            "outputs": [],
            "source": [
                "#!/usr/bin/env python3\n",
                "# Adapted from Prof Robinette's EECE5560 class \n",
                "import rospy\n",
                "from std_msgs.msg import String\n",
                "\n",
                "class Talker: # Defines a class for the publisher node.\n",
                "\tdef __init__(self): # Defines the constructor for the Talker class \n",
                "\t\t# In the constructor, you want to initialize all variables needed for your code\n",
                "\t\t# The init function is called once when you create an instance of the class\n",
                "\t\tself.pub = rospy.Publisher('chatter', String, queue_size = 10)\n",
                "\t\t# self.pub registers a publisher with ROS - That's your variable name - it creates the publisher\n",
                "\t\t# 'chatter' is the name of the topic\n",
                "\t\t# String is the type of message being publish in the topic. String is a message type from the class std_msg.msg.String\n",
                "\t\t# queue_size limists the amount of queued messages\n",
                "\tdef talker(self): # This will be the function with the main functionalities of our class Talker\n",
                "\t\thello_str = 'Hello World: ' + str(rospy.get_time())\n",
                "\t\trospy.loginfo(hello_str) # Logs the message into the roslog. It  will also print the hello_str variable in the terminal\n",
                "\t\tself.pub.publish(hello_str) # Publishing the message hello_str \n",
                "\t\t\n",
                "if __name__ == '__main__':\n",
                "\ttry:\n",
                "\t\trospy.init_node('talker', anonymous=True) # Registers node with ROS as node name \"talker\"\n",
                "\t\tt = Talker() #creating an instance of the Talker class\n",
                "\t\trate = rospy.Rate(10) # Runs once a 0.1secs or 10Hz\n",
                "\t\twhile not rospy.is_shutdown(): #It will run until ros master gets shutdown \n",
                "\t\t\tt.talker() # Call the talk function to publish the 'chatter' topic\n",
                "\t\t\trate.sleep() # Waits for one second\n",
                "\n",
                "\texcept rospy.ROSInterruptException:\n",
                "\t\tpass"
            ]
        },
        {
            "cell_type": "markdown",
            "metadata": {},
            "source": [
                "More information about topics, message types, and logs\n",
                "\n",
                "<h2 style= \"color:coral\"> ROS topics </h2>\n",
                "\n",
                "- A connection between two (or more) nodes\n",
                "- It can be unidirectional, streaming, anonymous\n",
                "- Any node can start a topic\n",
                "- Topics are formed by: (1) Name and (2) Type\n",
                "- Recall that `rostopic` command can show all topics "
            ]
        },
        {
            "cell_type": "markdown",
            "metadata": {},
            "source": [
                "\n",
                "<h2 style= \"color:coral\"> ROS messages </h2>\n",
                "\n",
                "- Structured data information\n",
                "- It has a type\n",
                "- We can define our own message types\n",
                "- Similar to packages, they are manage by catkin \n",
                "- You can inspect the messages using rosmsg tool\n",
                "\n",
                "**Example:**\n",
                "Let's see a more complex message than String.  \n",
                "Recall that the topic turtlesim topic */cmd_vel* has type `geometry_msgs/Twist`  \n",
                "When we printed this topic, it had the following information:  \n",
                "\n",
                "<img src=\"../assets/ex2-imgs/cmd-vel-msg.png\" style=\"width: 10%; height: auto;\">\n",
                "\n",
                "- It contains Vector3 linear with floats variables x, y, and z  \n",
                "- It contains Vector3 angular with floats variables x, y, and z  \n",
                "\n",
                "We can think of messages as a class, each element is a member variable in the class.  \n",
                "Below, we have a code snipped of accessing these variables"
            ]
        },
        {
            "cell_type": "code",
            "execution_count": null,
            "metadata": {},
            "outputs": [],
            "source": [
                "from geometry_msgs.msg import Twist # Importing the message type\n",
                "...\n",
                "\n",
                "\tcmd = Twist() # creating an instance of the Twist message\n",
                "\tcmd.linear.x = -1 # moving backward\n",
                "\tcmd.angular.x = 1 # rotating \n",
                "\tvel_x = cmd.linear.x # reading the velocity"
            ]
        },
        {
            "cell_type": "markdown",
            "metadata": {},
            "source": [
                "<h6><p style=\"text-align: center;\">\n",
                "<strong>Disclaimer:</strong>\n",
                "This tutorial is an adaptation of the <a href=\"https://wiki.ros.org/ROS/Tutorials/\">Official ROS tutorial</a> originally released under <a href=\"http://creativecommons.org/licenses/by/3.0/\">Creative Commons Attribution 3.0</a> license and Prof. Robinette's EECE5560 UMass Lowell class.\n",
                "</p></h6>"
            ]
        }
    ],
    "metadata": {
        "kernelspec": {
            "display_name": "Python 3.8.10 64-bit",
            "language": "python",
            "name": "python3"
        },
        "language_info": {
            "codemirror_mode": {
                "name": "ipython",
                "version": 2
            },
            "file_extension": ".py",
            "mimetype": "text/x-python",
            "name": "python",
            "nbconvert_exporter": "python",
            "pygments_lexer": "ipython2",
            "version": "3.8.10"
        },
        "vscode": {
            "interpreter": {
                "hash": "916dbcbb3f70747c44a77c7bcd40155683ae19c65e1c03b4aa3499c5328201f1"
            }
        }
    },
    "nbformat": 4,
    "nbformat_minor": 0
}
