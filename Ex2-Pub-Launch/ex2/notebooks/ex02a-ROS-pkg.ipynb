{
    "cells": [
        {
            "cell_type": "markdown",
            "metadata": {},
            "source": [
                "<div style=\"text-align: center;\">\n",
                "\n",
                "<h1 style= \"color:yellowgreen\">Creating ROS packages\n",
                "</h1>\n",
                "\n",
                "</div>\n",
                "\n",
                "\n",
                "<h2 style= \"color:coral\"> ROS package architecure\n",
                "</h2>\n",
                "\n",
                "\n",
                "In ROS, the software architecture is organized by ROS packages.   \n",
                "Usually, you want to organize packages based on their features.  \n",
                "For instance, the *object detection* pkg, the *controller* pkg, the *lane detection* pkg, etc.  \n",
                "In other words, you want to organize your package modularly following the definition of *modular code*.  \n",
                "\n",
                "**Modular software** is a design technique that separates the software \"code\" functions into independent modules.  \n",
                "Each module is responsible for a specific task and can be combined with other modules to create larger systems.\n",
                "\n",
                "An example of this modular software package architecture can be been in the image below\n",
                "\n",
                "<br><img src=\"../assets/ex2-imgs/ros-pkg-arc.png\" style=\"width: 50%; height: auto;\"></br><h6>\n",
                "\n",
                "[Image source - Medium Huseyin Kutluca](https://medium.com/software-architecture-foundations/robot-operating-system-2-ros-2-architecture-731ef1867776)\n",
                "</h6>\n"
            ]
        },
        {
            "cell_type": "markdown",
            "metadata": {},
            "source": [
                "<h2 style= \"color:coral\"> Catkin package\n",
                "</h2>\n",
                "\n",
                "Recall that the intern had created the **intern_pkg** in Exercise 1.\n",
                "How did they do it?\n",
                "\n",
                "<h3>What makes up a catkin Package?</h3>\n",
                "\n",
                "For a directory to be considered a catkin package it must meet a few requirements:\n",
                "\n",
                "- It must contain a catkin-compliant `package.xml` file that provides meta information about the package\n",
                "\n",
                "- It must contain a `CMakeLists.txt` file which uses catkin\n",
                "\n",
                "- It must contain exactly one package. No nested packages nor multiple packages sharing the same directory are allowed\n",
                "\n",
                "<h3>Creating a catkin package</h3>\n",
                "\n",
                "Creating a catkin package is quite simple.  \n",
                "We can use the  `catkin_create_pkg` command.  \n",
                "The command has the following format `catkin_create_pkg pkg_name [pkg dependencies]`\n",
                "\n",
                "To ensure your package is going to be recognized, you must create the package inside your workspace.  \n",
                "For this class, we will **always** create packages in the *vs-code container* (***VS CODE IN THE BROWSER***) inside the `ex_workspace`.\n",
                "\n",
                "**NOTE:** The vnc container automatically copies the packages in the `ex_workspace` to the vnc container workspace.  \n",
                "So, you should not worry about that.\n",
                "\n",
                "Let us create our first ROS package.\n",
                "\n",
                "1. ***RUN THE COMMAND IN THE HOST OS (VM) TERMINAL***  \n",
                "Start the vs-code container (*to start the VSCode in your browser*).  \n",
                "From your hostOS (VM) terminal run the following **inside of the ex2 directory**.   \n",
                "**You must be inside ex2 dir to run the command**.  \n",
                "Otherwise you will have a error about not being a dt project."
            ]
        },
        {
            "cell_type": "code",
            "execution_count": null,
            "metadata": {
                "vscode": {
                    "languageId": "shellscript"
                }
            },
            "outputs": [],
            "source": [
                "dts code editor --recipe ../ex2-recipe"
            ]
        },
        {
            "cell_type": "markdown",
            "metadata": {},
            "source": [
                "\n",
                "---\n",
                "\n",
                "***THE FOLLOWING STEPS ARE TO BE RUN INSIDE THE VSCODE IN YOUR BROWSER***\n",
                "\n",
                "2. In the vs-code container (VS CODE IN THE BROWSER), open a terminal.  \n",
                "Go to the `src` folder inside `ex_workspace`"
            ]
        },
        {
            "cell_type": "code",
            "execution_count": null,
            "metadata": {
                "vscode": {
                    "languageId": "shellscript"
                }
            },
            "outputs": [],
            "source": [
                "cd ex_workspace/src"
            ]
        },
        {
            "cell_type": "markdown",
            "metadata": {},
            "source": [
                "Make sure you are inside `ex_workspace/src` with command `pwd`\n",
                "\n",
                "3. Run the catkin_create_pkg command.  \n",
                "Change the name of the package below, “my_first_package”, to a name you would like to call the ex2 package.  \n",
                "This package will used for your next two exercises.   \n",
                "The theme of these exercises are `learning the basics of ros programming`"
            ]
        },
        {
            "cell_type": "code",
            "execution_count": null,
            "metadata": {
                "vscode": {
                    "languageId": "shellscript"
                }
            },
            "outputs": [],
            "source": [
                "catkin_create_pkg my_first_package std_msgs rospy roscpp geometry_msgs"
            ]
        },
        {
            "cell_type": "markdown",
            "metadata": {},
            "source": [
                "A new folder with the name of your package will appear inside the folder `src`.  \n",
                "For instance, with the command above, the new folder will be `my_first_package`\n",
                "\n",
                "In the command above, the created package depends on std_msgs, rospy, roscpp, and geometry_msgs.  \n",
                "Inside your package folder, there should be a `src` folder, a file called `CMakeLists.txt`, and a file called `package.xml`.  \n",
                "You can open these files to see their contents."
            ]
        },
        {
            "cell_type": "markdown",
            "metadata": {},
            "source": [
                "4. Rebuild and source catkin from terminal (BROWSER TERMINAL) inside `ex_workspace` folder.  \n",
                "You might need to use `cd` to go to `ex_workspace`.  \n",
                "Check with `pwd` to see the current directory.    \n",
                "Your new package should appear in the list of packages built."
            ]
        },
        {
            "cell_type": "code",
            "execution_count": null,
            "metadata": {
                "vscode": {
                    "languageId": "shellscript"
                }
            },
            "outputs": [],
            "source": [
                "catkin build\n",
                "source devel/setup.bash"
            ]
        },
        {
            "cell_type": "markdown",
            "metadata": {},
            "source": [
                "<h3>Deleting a catkin package</h3>\n",
                "\n",
                "***JUST FOR YOUR INFORMATION IF NEEDED***\n",
                "\n",
                "1. [Not ideal] Delete the package folder - Okay for the vscode and vnc containers. However, it's not a great option.\n",
                "2. [Better Practive] Delete using the `catkin clean` command"
            ]
        },
        {
            "cell_type": "code",
            "execution_count": null,
            "metadata": {
                "vscode": {
                    "languageId": "shellscript"
                }
            },
            "outputs": [],
            "source": [
                "catkin clean --dependents <pkgname>"
            ]
        },
        {
            "cell_type": "markdown",
            "metadata": {},
            "source": [
                "<h3>Modifying catkin package dependencies</h3>\n",
                "\n",
                "If you open the contents in both the `package.xml` and `CMakeLists.txt` files, you will see a script related to the dependecies you have added.  \n",
                "You can alter these files to add or remove dependencies. "
            ]
        },
        {
            "cell_type": "markdown",
            "metadata": {},
            "source": [
                "<h3>Common mistakes</h3>\n",
                "\n",
                "- [build] Error: Unable to find source space `/code/ex2/src` - You are not inside `ex_workspace` while trying to run the catkin build command.\n"
            ]
        },
        {
            "cell_type": "markdown",
            "metadata": {},
            "source": [
                "<h6><p style=\"text-align: center;\">\n",
                "<strong>Disclaimer:</strong>\n",
                "This tutorial is an adaptation of the <a href=\"https://wiki.ros.org/ROS/Tutorials/\">Official ROS tutorial</a> originally released under <a href=\"http://creativecommons.org/licenses/by/3.0/\">Creative Commons Attribution 3.0</a> license and Prof. Robinette's EECE5560 UMass Lowell class.\n",
                "</p></h6>"
            ]
        }
    ],
    "metadata": {
        "kernelspec": {
            "display_name": "Python 3.8.10 64-bit",
            "language": "python",
            "name": "python3"
        },
        "language_info": {
            "codemirror_mode": {
                "name": "ipython",
                "version": 2
            },
            "file_extension": ".py",
            "mimetype": "text/x-python",
            "name": "python",
            "nbconvert_exporter": "python",
            "pygments_lexer": "ipython2",
            "version": "3.8.10"
        },
        "vscode": {
            "interpreter": {
                "hash": "916dbcbb3f70747c44a77c7bcd40155683ae19c65e1c03b4aa3499c5328201f1"
            }
        }
    },
    "nbformat": 4,
    "nbformat_minor": 0
}
