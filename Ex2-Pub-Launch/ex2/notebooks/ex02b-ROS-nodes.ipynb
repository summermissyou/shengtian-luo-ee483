{
    "cells": [
        {
            "cell_type": "markdown",
            "metadata": {},
            "source": [
                "<div style=\"text-align: center;\">\n",
                "\n",
                "<h1 style= \"color:yellowgreen\">Creating ROS nodes\n",
                "</h1>\n",
                "\n",
                "</div>\n",
                "\n",
                "\n",
                "<h2 style= \"color:coral\"> ROS nodes\n",
                "</h2>\n",
                "\n",
                "Each executable in the package is a *node*.  \n",
                "Typically each Python script (unless used as a library) is a node.  \n",
                "For example, the intern's script *move_turtle.py*  is a node.\n",
                "\n",
                "<h2 style= \"color:coral\"> Creating ROS nodes\n",
                "</h2>\n",
                "\n",
                "1. Open the vscode container (VS CODE IN YOUR BROWSER) if it isn't running yet.  \n",
                "You run the following command in the HostOS (VM) terminal inside `ex2` folder.   \n",
                "You can check your current directory in the HostOS terminal with `pwd`  \n",
                "***RUN THE COMMAND IN THE HOST OS (VM) TERMINAL***"
            ]
        },
        {
            "cell_type": "code",
            "execution_count": null,
            "metadata": {
                "vscode": {
                    "languageId": "shellscript"
                }
            },
            "outputs": [],
            "source": [
                "dts code editor --recipe ../ex2-recipe"
            ]
        },
        {
            "cell_type": "markdown",
            "metadata": {},
            "source": [
                "\n",
                "---\n",
                "***THE FOLLOWING ARE TO BE RUN IN THE VS CODE CONTAINER (BROWSER)***\n",
                "\n",
                "\n",
                "1. In the vs-code container, create a python script inside the `src` folder in the package you created in the previous notebook.  \n",
                "Herein, I will use `my_first_pkg` as the name of my package.  \n",
                "You should replace `my_first_pkg` by the name you have used.  \n",
                "For example, I would create a file `my_first_node.py` inside \\ex2\\ex_workspace\\src\\my_first_pkg\\src.  \n",
                "You can name your node as you wish.  \n",
                "2. Options to create a file  \n",
                "    a. You can right click in the desired folder location and select `New File`.  \n",
                "    b. You can also use the dropdown menu (the one you used to open terminals in the vs-code container).  \n",
                "Select `File-> New File -> Python` save (Control + S) the file inside the `src` folder in your inside the package you have create in the previous notebook."
            ]
        },
        {
            "cell_type": "markdown",
            "metadata": {},
            "source": [
                "3. Make the python script executable **(Really important otherwise it will not run!)**\n",
                "Go to the `src` folder inside the package you have create in the previous notebook.\n",
                "Herein, I will use `my_first_pkg` as the name of my package. \n",
                "You should replace `my_first_pkg` by the name you have used."
            ]
        },
        {
            "cell_type": "code",
            "execution_count": null,
            "metadata": {
                "vscode": {
                    "languageId": "shellscript"
                }
            },
            "outputs": [],
            "source": [
                "cd ex_workspace/src/my_first_pkg/src\n",
                "chmod +x ex_workspace/src/my_first_pkg/src/my_first_node.py"
            ]
        },
        {
            "cell_type": "markdown",
            "metadata": {},
            "source": [
                "Great! You have created your first node.  \n",
                "\n",
                "4. Copy the code from *move_turtle.py* into your new python script."
            ]
        },
        {
            "cell_type": "markdown",
            "metadata": {},
            "source": [
                "5. Test if it runs. In the same **VSCode container** terminal start roscore"
            ]
        },
        {
            "cell_type": "code",
            "execution_count": null,
            "metadata": {
                "vscode": {
                    "languageId": "shellscript"
                }
            },
            "outputs": [],
            "source": [
                "roscore"
            ]
        },
        {
            "cell_type": "markdown",
            "metadata": {},
            "source": [
                "6. Open a new terminal (in the VSCode container - Browser) and run your package node.  \n",
                "Don't forget to build your workspace after opening the new terminal (catkin_build inside `ex_workspace` folder) and activate (source ...)"
            ]
        },
        {
            "cell_type": "code",
            "execution_count": null,
            "metadata": {
                "vscode": {
                    "languageId": "shellscript"
                }
            },
            "outputs": [],
            "source": [
                "rosrun my_first_pkg my_first_node.py"
            ]
        },
        {
            "cell_type": "markdown",
            "metadata": {},
            "source": [
                "You should see similar logs as when executing the *move_turtle.py* in Ex1.\n",
                "\n",
                "In the next *notebook*, we will explain a template of a publisher node."
            ]
        },
        {
            "cell_type": "markdown",
            "metadata": {},
            "source": [
                "<h3>Common mistakes</h3>\n",
                "\n",
                "- [rosrun] Couldn't find executable named `script_name.py` below -- Forgot to make script executable `chmod +x` command (step 3)"
            ]
        },
        {
            "cell_type": "markdown",
            "metadata": {},
            "source": [
                "<h6><p style=\"text-align: center;\">\n",
                "<strong>Disclaimer:</strong>\n",
                "This tutorial is an adaptation of the <a href=\"https://wiki.ros.org/ROS/Tutorials/\">Official ROS tutorial</a> originally released under <a href=\"http://creativecommons.org/licenses/by/3.0/\">Creative Commons Attribution 3.0</a> license and Prof. Robinette's EECE5560 UMass Lowell class.\n",
                "</p></h6>"
            ]
        }
    ],
    "metadata": {
        "kernelspec": {
            "display_name": "Python 3.8.10 64-bit",
            "language": "python",
            "name": "python3"
        },
        "language_info": {
            "codemirror_mode": {
                "name": "ipython",
                "version": 2
            },
            "file_extension": ".py",
            "mimetype": "text/x-python",
            "name": "python",
            "nbconvert_exporter": "python",
            "pygments_lexer": "ipython2",
            "version": "3.8.10"
        },
        "vscode": {
            "interpreter": {
                "hash": "916dbcbb3f70747c44a77c7bcd40155683ae19c65e1c03b4aa3499c5328201f1"
            }
        }
    },
    "nbformat": 4,
    "nbformat_minor": 0
}
