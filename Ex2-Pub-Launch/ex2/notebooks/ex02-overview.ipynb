{
    "cells": [
        {
            "cell_type": "markdown",
            "metadata": {},
            "source": [
                "# <p style=\"text-align: center;\"> <span style=\"color:yellowgreen\"> Exercise 2 - Publisher and Launcher </span></p>"
            ]
        },
        {
            "cell_type": "markdown",
            "metadata": {},
            "source": [
                "During your first week, you were able to use ROS debugging tools to fix the intern's code mistakes.\n",
                "Exercise 2 will make you create your own ROS packages, a ROS node, and a ROS launcher.\n",
                "These are your first steps to creating your own MM code.\n",
                "\n",
                "The *goal* of this exercise is to create a package that makes the turtlesim move in a square and launch all nodes together.\n",
                "\n",
                "Recall that at some point in Ex1 we had 5 LXterminal tabs open. A launch file will forgo the need for all the LXterminals."
            ]
        },
        {
            "cell_type": "markdown",
            "metadata": {},
            "source": [
                "## <p style=\"text-align: center;\"> <span style=\"color:coral\"> Objectives </span></p>\n",
                "1. Create a package\n",
                "2. Create one ROS nodes (one python script) that must publish commands for the turtlesim to do a square\n",
                "3. A launch file to start all nodes. The name of the launch file must be \"ex2.launch\".\n",
                "\n",
                "### ROS Package\n",
                "Your package will depend on rospy, roscpp, std_msgs, and geometry_msgs. \n",
                "You can name the package as you wish.\n",
                "\n",
                "### ROS Nodes\n",
                "You will create one node in your package.\n",
                "\n",
                "**Square Node**: \n",
                "- This node will be similar to the intern's node (move_turtle.py). \n",
                "However, it should make the turtle move in a square of at least 2 distance units for each side.\n",
                "- The turtle must finish in the same position where it started after moving in the square.\n",
                "- You can copy the code from *move_turtle.py* to start. Recall that *move_turtle.py* only moves the turtle forward and backward.\n",
                "\n",
                "- **Note:** ROS nodes will start at different times, so consider adding a slight delay before publishing commands.\n",
                "\n",
                "<!-- **Distance Node:**\n",
                "This node should subscribe to the pose output of turtlesim/sim.\n",
                "For each message that your node receives, it should calculate the *total distance* traversed by the turtle.\n",
                "Then, it should publish this total distance to a new topic.\n",
                "\n",
                "- **Note**-After the turtle finishes one lap in the square, the *total distance* is the perimeter of the square. -->\n",
                "\n",
                "### ROS Launch file\n",
                "The launch file must start everything needed to accomplish the exercise objectives.\n",
                "Your launch file must start\n",
                "1. The turtlesim simulator\n",
                "2. Your Square Node\n",
                "3. Rqt graph\n",
                "4. Rostopic echo for choosen turtle pose topic output\n",
                "<!-- 3. Your Distance Node -->\n",
                "\n",
                "A launch file template can be found in /assets/launch/launch_template.launch.  \n",
                "This template shows how to open a node (turtlesim), rqt_graph, and rostopic echo.\n",
                "\n",
                "## Notebooks information \n",
                "\n",
                "There are 4 notebooks covering\n",
                "- ROS packages: How to create ROS packages (ex02a)\n",
                "- ROS nodes: How to create ROS Node (ex02b)\n",
                "- Publisher Nodes: A Publisher node with detailed explanations (ex02c)\n",
                "- ROS launch file: A launch file with detailed explanations (ex02d)\n",
                "\n",
                "You can use these detailed instructions to complete this assignment. \n",
                "\t"
            ]
        },
        {
            "cell_type": "markdown",
            "metadata": {},
            "source": [
                "## <p style=\"text-align: center;\"> <span style=\"color:coral;\">Submission </span></p>\n",
                "\n",
                "<a href=\"[url](https://psu.instructure.com/courses/2335376/pages/github-submission-instructions)\">Submission details instruction</a>\n",
                "\n",
                " 1. Check which files changed\n",
                "```bash\n",
                "git status\n",
                "```\n",
                "2. Add them to this staged commit\n",
                "```bash\n",
                "git add -A\n",
                "```\n",
                "3. Make the commit\n",
                "```bash\n",
                "git commit -m 'your message for the commit'\n",
                "```\n",
                "4. Push it to your repo on GitHub\n",
                "```bash\n",
                "git push\n",
                "```\n",
                "Up to this point, your git should be updated. The next commands are for the final exercise or lab submission\n",
                "\n",
                "5. Tag based on the exercise or lab.\n",
                "```bash\n",
                "git tag ex2\n",
                "```\n",
                "6. Push the tag to Github\n",
                "```bash\n",
                "git push origin ex2\n",
                "```\n",
                "7. Verify on Github.com that your submission is there, in the correct tag\n",
                "\n",
                "### <p style=\"text-align: center;\">Rubric</p>\n",
                "\n",
                "- Package creation 20%\n",
                "- Square node 50%\n",
                "\t- Publishes in the correct topic 15%\n",
                "\t- Turtle moves in a square 25%\n",
                "\t- Turtle stops exactly where it started 10%\n",
                "- Launch file 15%\n",
                "- Git tag 5%\n",
                "- Written Answers 10 %\n",
                "\t- The command that starts your nodes for this assignment, i.e.: `roslaunch <package> <launch_file>`\n",
                "\t- The name of:\n",
                "\t\t- The package you created for this assignment\n",
                "\t\t- The node you created\n",
                "\t- Any difficulties you had with this assignment\n",
                "\n"
            ]
        }
    ],
    "metadata": {
        "kernelspec": {
            "display_name": "Python 3.8.10 64-bit",
            "language": "python",
            "name": "python3"
        },
        "language_info": {
            "codemirror_mode": {
                "name": "ipython",
                "version": 3
            },
            "file_extension": ".py",
            "mimetype": "text/x-python",
            "name": "python",
            "nbconvert_exporter": "python",
            "pygments_lexer": "ipython3",
            "version": "3.8.10"
        },
        "vscode": {
            "interpreter": {
                "hash": "916dbcbb3f70747c44a77c7bcd40155683ae19c65e1c03b4aa3499c5328201f1"
            }
        }
    },
    "nbformat": 4,
    "nbformat_minor": 0
}
