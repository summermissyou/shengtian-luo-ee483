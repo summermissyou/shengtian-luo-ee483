{
    "cells": [
        {
            "cell_type": "markdown",
            "metadata": {},
            "source": [
                "<div style=\"text-align: center;\">\n",
                "\n",
                "<h1 style= \"color:yellowgreen\">Coordinate Transforms\n",
                "</h1>\n",
                "\n",
                "</div>\n",
                "\n",
                "\n",
                "- Robots move around in the world\n",
                "- Robots need to keep track of objects they sense in the world\n",
                "\n",
                "How do we do this?\n",
                "\n",
                "-  <a href=\"https://www.solisplc.com/tutorials/robot-coordinate-frames-and-points#:~:text=The%20WORLD%20frame%20is%20a,pointing%20and%20the%20origin%20position.\">Reference frames</a> are specific coordinate systems in our context\n",
                "\t- World coordinate frame: A fixed cartesian coordinate frame that represents the overall world for the robot, e.g., GPS, a fixed position indoor, etc.\n",
                "\t- Robot frames: a coordinate system in the robot.   \n",
                "\tFor us, the robot's center of mass defines the robot frame.  \n",
                "\tA robot can have multiple frames, e.g., a robotic arm has a frame for each link and joints. \n",
                "\t- Sensor frames: Sensors are collecting measures with respect to their location.   \n",
                "\tUsually, we know this location with respect to a robot frame or a world frame.  \n",
                "- If we choose your reference frame carefully, we can make the math easier\n",
                "- Transformation between frames will provide us the mathematical tools to obtain information in any of these frames.  \n",
                "For example, if we need the position of an object with respect to the world frame but we have the position with respect to a sensor.   \n",
                "We need a way to easy go from sensor frame to world frame position.  \n",
                "\n",
                "In this notebook, we start by reviewing coordinate frames.\n",
                "\n",
                "<h2 style= \"color:coral\">Coordinates in our context\n",
                "</h2>\n",
                "\n",
                "<br><img src=\"../assets/ex6-imgs/coordinate-frames-db.png\" style=\"width: 50%; height: auto;\"></br>\n",
                "\n",
                "In the image above, we describe the three coordinate systems that we have in our context.\n",
                "\n",
                "- World frame: In our case, we will use the center of lane.\n",
                "- Robot frame: Position in the center of mass - in center line in between the wheels.\n",
                "- Camera frame: Aligned in the $x$ position of the robot frame.\n",
                "\n",
                "The image below show the frames\n",
                "\n",
                "<br><img src=\"../assets/ex6-imgs/coordinate-frames-visual.png\" style=\"width: 50%; height: auto;\"></br>\n",
                "\n",
                "\n",
                "<h2 style= \"color:coral\">Coordinates in general\n",
                "</h2>\n",
                "\n",
                "\n",
                "In general, coordinate frames are 3D, $(x,y,z)$ position with rotation angles $(\\phi, \\psi, \\theta)$ as below:\n",
                "\n",
                "<br><img src=\"../assets/ex6-imgs/coordinate-3D.png\" style=\"width: 30%; height: auto;\"></br>\n",
                "\n",
                "The example below show coordinate frames in a robotic arm. \n",
                "\n",
                "<br><img src=\"../assets/ex6-imgs/coordinate-example-linkarm.png\" style=\"width: 50%; height: auto;\"></br>\n",
                "\n",
                "\n",
                "In the next notebook, we will cover how we can transform position in between frames."
            ]
        },
        {
            "cell_type": "markdown",
            "metadata": {},
            "source": [
                "<h6><p style=\"text-align: center;\">\n",
                "<strong>Disclaimer:</strong>\n",
                "This tutorial is an adaptation of the Prof. Robinette's EECE5560 UMass Lowell class.\n",
                "</p></h6>"
            ]
        }
    ],
    "metadata": {
        "kernelspec": {
            "display_name": "Python 3.8.10 64-bit",
            "language": "python",
            "name": "python3"
        },
        "language_info": {
            "codemirror_mode": {
                "name": "ipython",
                "version": 2
            },
            "file_extension": ".py",
            "mimetype": "text/x-python",
            "name": "python",
            "nbconvert_exporter": "python",
            "pygments_lexer": "ipython2",
            "version": "3.8.10"
        },
        "vscode": {
            "interpreter": {
                "hash": "916dbcbb3f70747c44a77c7bcd40155683ae19c65e1c03b4aa3499c5328201f1"
            }
        }
    },
    "nbformat": 4,
    "nbformat_minor": 0
}
