{
    "cells": [
        {
            "cell_type": "markdown",
            "metadata": {},
            "source": [
                "<div style=\"text-align: center;\">\n",
                "\n",
                "<h1 style= \"color:yellowgreen\">Detecting Lines\n",
                "</h1>\n",
                "\n",
                "</div>\n",
                "\n",
                "How to do we find line representations after detecting the edges?\n",
                "\n",
                "## Lines \n",
                "\n",
                "### What is a line?\n",
                "\n",
                "Line equation: $y = mx+b$   \n",
                "Determine if a point is in the line using the line equation\n",
                "\n",
                "<br><img src=\"../assets/ex5-imgs/line-data-points.png\" style=\"width: 35%; height: auto;\"></br>\n",
                "\n",
                "\n",
                "\n",
                "\n",
                "## Finding Lines \n",
                "\n",
                "Given a set of points, find a line that \"fits\" a line.\n",
                "- Linear regression method - line that best fit. Error is calculated based on distance between points and the choosen line.\n",
                "\n",
                "<br><img src=\"../assets/ex5-imgs/line-linear-regression.png\" style=\"width: 35%; height: auto;\"></br>\n",
                "\n",
                "What about multiple lines?\n",
                "- Try all possible lines and see which fit better\n",
                "\n",
                "<br><img src=\"../assets/ex5-imgs/line-regression-2-lines.png\" style=\"width: 35%; height: auto;\"></br>\n",
                "\n",
                "## Hough Transform\n",
                "\n",
                "- Given a discrete space (pixel space height x width) enumerate all possible lines  \n",
                "- For each pixel in the image, if line is on pixel, add one to each possible line\n",
                "- Eliminate unlikely lines using threshold \n",
                "\n",
                "\n",
                "<br><img src=\"../assets/ex5-imgs/line-hough-transform.png\" style=\"width: 35%; height: auto;\"></br>\n",
                "\n",
                "Example with a line:\n",
                "\n",
                "<br><img src=\"../assets/ex5-imgs/line-hough-example.png\" style=\"width: 35%; height: auto;\"></br>\n",
                "\n",
                "\n",
                "### Hough transform in OpenCV\n",
                "\n",
                "- Filter image for white pixels\n",
                "- Find edges in the image\n",
                "- Combine edges and image filter with bitwise and\n",
                "\t- Possible that  dilation and erosion might be needed\n",
                "- Run Hough transform"
            ]
        },
        {
            "cell_type": "code",
            "execution_count": null,
            "metadata": {},
            "outputs": [],
            "source": [
                "lines = cv2.HoughLines(image, rho, theta, threshold)"
            ]
        },
        {
            "cell_type": "markdown",
            "metadata": {},
            "source": [
                "- lines - output vector of lines. Each line is represented by a two-element vector ($\\rho$, $\\theta$).   \n",
                "- image - 8 bit, single channel (black and white) binary source image. The image may be modified by this fuction\n",
                "$\\rho$ is the distance from the coordinate (0,0) - top left corner of the image.   \n",
                "$\\theta$  us the line rotation angle in radias\n",
                "- rho - Distance resolution of the accumulator in pixels\n",
                "- theta - Angle resolution of the accumulator in radians\n",
                "- threshold - Accumulator threshold parameter. Only lines that get enough counts get return (above threshold)\n",
                "\n",
                "See <a href=\"https://www.geeksforgeeks.org/line-detection-python-opencv-houghline-method/\">Hough Lines </a> for more details\n",
                "\n",
                "\n",
                "\n",
                "### Probabilistic Hough transform\n",
                "\n",
                "Hough transform takes considerable processing power  \n",
                "We probably don't need to search all possible lines  \n",
                "Random sample over the space of possible lines: Probabilistic Hough transform\n",
                "\n",
                "- A more efficient implementation of Hough transforms\n",
                "- It gives as output the extremes of the detected lines ($x_0,y_0,x_1,y_1$)\n",
                "- Function HoughLinesP()\n",
                "\n",
                "**WE WILL USE THIS METHOD INSTEAD OF THE FULL HOUGH TRANSFORM**\n",
                "\n"
            ]
        },
        {
            "cell_type": "code",
            "execution_count": null,
            "metadata": {},
            "outputs": [],
            "source": [
                "lines  = cv2.HoughLinesP(image, rho, theta, threshold, minLineLength, maxLineGap)\n",
                "\n",
                "#Example with values\n",
                "lines = cv2.HoughLinesP(edges,1,np.pi/180,100,minLineLength=100,maxLineGap=10)\n",
                "#edges is the image coming from Canny edge detection"
            ]
        },
        {
            "cell_type": "markdown",
            "metadata": {},
            "source": [
                "- lines - output vector of lines. Each line is represented by a four-element vector ($x_0,y_0,x_1,y_1$) \n",
                "- image - 8 bit, single channel (black and white) binary source image. The image may be modified by this fuction\n",
                "$(x_0,y_0)$ and $(x_1,y_1)$ are the ending points of each detected line segment (pixel position)\n",
                "- rho - Distance resolution of the accumulator in pixels (usually 1)\n",
                "- theta - Angle resolution of the accumulator in radians (usually $pi$/180)\n",
                "- threshold - Accumulator threshold parameter. Only lines that get enough counts get return (above threshold)\n",
                "- MinLineLength - Minimum line length accepted. Lines segments shorter are rejected\n",
                "- MaxLineGap- Maximum line gap between points on the same line to link them\n",
                "\n",
                "See <a href=\"https://www.geeksforgeeks.org/line-detection-python-opencv-houghline-method/\">Hough Lines </a> for more details\n",
                "\n",
                "You will have to tune threshold, minlinelength, and maxlinegap to get good line results.  \n",
                "\n",
                "\n",
                "### Adding lines in the image\n",
                "\n",
                "Use the code below to overlay lines in your image.\n",
                "This assume that lines are coming from the HoughLinesP\n",
                "You imported numpy as np and OpenCv as cv2"
            ]
        },
        {
            "cell_type": "code",
            "execution_count": null,
            "metadata": {},
            "outputs": [],
            "source": [
                "def output_lines(self, original_image, lines):\n",
                "    output = np.copy(original_image)\n",
                "    if lines is not None:\n",
                "        for i in range(len(lines)):\n",
                "            l = lines[i][0]\n",
                "            cv2.line(output, (l[0],l[1]), (l[2],l[3]), (255,0,0), 2, cv2.LINE_AA)\n",
                "            cv2.circle(output, (l[0],l[1]), 2, (0,255,0))\n",
                "            cv2.circle(output, (l[2],l[3]), 2, (0,0,255))\n",
                "    return output"
            ]
        },
        {
            "cell_type": "markdown",
            "metadata": {},
            "source": [
                "You can run the `image_adding_lines.py` node in the auxiliary package `img_proc_aux` to see the line addition.  \n",
                "In this node, we manually create one line segment and overlay in the image.  \n",
                "In your case, your lines segments are coming from the output of `HoughLinesP`   \n",
                "\n",
                "**NOTE** If your image is not adding any lines, check to see if the output of `HoughLinesP` is actually find at least one line segment  \n",
                "Possible fixes: \n",
                "- Modifying threshold, MinLineLenght, and MaxLineGap\n",
                "- Modifying your Canny\n",
                "- Modifying your Erosion and Dilation"
            ]
        },
        {
            "cell_type": "markdown",
            "metadata": {},
            "source": [
                "<h6><p style=\"text-align: center;\">\n",
                "<strong>Disclaimer:</strong>\n",
                "This tutorial is an adaptation of the Prof. Robinette's EECE5560 UMass Lowell class and <strong> <a href=\"https://www.geeksforgeeks.org/line-detection-python-opencv-houghline-method/\">Hough transforms</a></strong>\n",
                "Images from <strong> <a href=\"https://studentuml-my.sharepoint.com/:p:/g/personal/paul_robinette_uml_edu/EQg2JJbsJptBsXRfwwWbHTEBvY8F6YCcOLRM6aUr7Nxayg?rtime=AkdpgAHn3Eg\">Prof. Robinette EECE5560</a></strong>\n",
                "</p></h6>"
            ]
        }
    ],
    "metadata": {
        "kernelspec": {
            "display_name": "Python 3.8.10 64-bit",
            "language": "python",
            "name": "python3"
        },
        "language_info": {
            "codemirror_mode": {
                "name": "ipython",
                "version": 2
            },
            "file_extension": ".py",
            "mimetype": "text/x-python",
            "name": "python",
            "nbconvert_exporter": "python",
            "pygments_lexer": "ipython2",
            "version": "3.8.10"
        },
        "vscode": {
            "interpreter": {
                "hash": "916dbcbb3f70747c44a77c7bcd40155683ae19c65e1c03b4aa3499c5328201f1"
            }
        }
    },
    "nbformat": 4,
    "nbformat_minor": 0
}
