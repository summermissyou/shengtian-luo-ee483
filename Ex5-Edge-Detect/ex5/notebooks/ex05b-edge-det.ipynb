{
    "cells": [
        {
            "cell_type": "markdown",
            "metadata": {},
            "source": [
                "<div style=\"text-align: center;\">\n",
                "\n",
                "<h1 style= \"color:yellowgreen\">Edge Detection\n",
                "</h1>\n",
                "\n",
                "</div>\n",
                "\n",
                "\n",
                "An edge is a place of rapid change in the image pixel values\n",
                "\n",
                "The image below shows this rapid change when the pixels are moving from white pixels to black pixels, and vice-versa. \n",
                "Moreover, we show the first derivative of this change in intensity value function\n",
                "\n",
                "<br><img src=\"../assets/ex5-imgs/edge-det-change.png\" style=\"width: 25%; height: auto;\"></br>\n",
                "\n",
                "Therefore, we can find edges by applying derivative in the image.  \n",
                "Here we can take derivative over $x$ and $y$  \n",
                "Derivative over $x$ gives you vertical edges while derivative over $y$ provides horizontal edges\n",
                "Below we show an image, then the derivative over $x$, and the derivative over $y$\n",
                "\n",
                "<br><img src=\"../assets/ex5-imgs/edge-det-derivative.png\" style=\"width: 35%; height: auto;\"></br>\n",
                "<h6>\n",
                "<a href=\"https://towardsdatascience.com/image-derivative-8a07a4118550\">Derivative images</a>\n",
                "</h6>\n",
                "\n",
                "In the next figure, we show a kernel for estimating the derivative.\n",
                "Intuitively for $x$, we get the change in the values between two pixels. \n",
                "This intuition aligns with the image above showing the first derivative of the intensity values \n",
                "\n",
                "\n",
                "<br><img src=\"../assets/ex5-imgs/edge-det-kernels.png\" style=\"width: 25%; height: auto;\"></br>\n",
                "\n",
                "\n",
                "## Sobel Edge detection\n",
                "\n",
                "The Sobel edge detection constructs kernels to approximate the first-derivative\n",
                "\n",
                "<br><img src=\"../assets/ex5-imgs/edge-det-sobel.png\" style=\"width: 25%; height: auto;\"></br>\n",
                "\n",
                "\n",
                "In OpenCV, we use the following code:"
            ]
        },
        {
            "cell_type": "code",
            "execution_count": null,
            "metadata": {},
            "outputs": [],
            "source": [
                "# cv2.Sobel(img,depth,dx,dy) The Sobel function: Inputs- Image, depth of image (number of bits for intensity value - in our case 8 bits 0-255), order of derivative in direction x, order of derivative in direction y\n",
                "cv2.Sobel(img,cv2.CV_8U,1,0) #Applying the Sobel edge detection over x (finds vertical edges)\n",
                "cv2.Sobel(img,cv2.CV_8U,1,0) #Applying the Sobel edge detection over y (finds horizontal edges)\n"
            ]
        },
        {
            "cell_type": "markdown",
            "metadata": {},
            "source": [
                "You can run node `image_sobel.py` in the auxiliary package to test this function out.\n",
                "\n",
                "## Laplacian Edge detection\n",
                "\n",
                "The Sobel edge detection constructs kernels to approximate the first-derivative\n",
                "\n",
                "<br><img src=\"../assets/ex5-imgs/edge-det-laplacian.png\" style=\"width: 30%; height: auto;\"></br>\n",
                "\n",
                "<a href=\"https://aishack.in/tutorials/sobel-laplacian-edge-detectors/\">Images</a>\n",
                "\n",
                "In OpenCV, we use the following code:"
            ]
        },
        {
            "cell_type": "code",
            "execution_count": null,
            "metadata": {},
            "outputs": [],
            "source": [
                "# cv.Laplacian(img, depth, ksize=kernel_size)\n",
                "dst = cv2.Laplacian(img, cv2.CV_8U, ksize=3)"
            ]
        },
        {
            "cell_type": "markdown",
            "metadata": {},
            "source": [
                "## Canny edge detection \n",
                "\n",
                "A combination of operations to detect edges\n",
                "It applies the following operations in the image\n",
                "- Noise reductin (5x5 Gaussian Blur)\n",
                "- Find gradients (classic edge detection, uses Sobel method)\n",
                "- Remove spurious edges\n",
                "- Thresholding (high and low) - Cut off values below low and above high - Our main tuning parameter\n",
                "\n",
                "<br><img src=\"../assets/ex5-imgs/edge-det-canny.png\" style=\"width: 35%; height: auto;\"></br>\n",
                "Images from <strong> <a href=\"https://studentuml-my.sharepoint.com/:p:/g/personal/paul_robinette_uml_edu/EQg2JJbsJptBsXRfwwWbHTEBvY8F6YCcOLRM6aUr7Nxayg?rtime=AkdpgAHn3Eg\">Prof. Robinette EECE5560</a></strong>\n",
                "\n",
                "\n",
                "In OpenCV:"
            ]
        },
        {
            "cell_type": "code",
            "execution_count": null,
            "metadata": {},
            "outputs": [],
            "source": [
                "cv2.Canny(img, low, high) # img must be a grayscale image, low and high are interger values"
            ]
        },
        {
            "cell_type": "markdown",
            "metadata": {},
            "source": [
                "You can run the `image_edges.py` node in the auxiliary package `img_proc_aux` to see examples of the Sobel edge detector (not Canny)  \n",
                "You will have to use the Canny edge detector "
            ]
        },
        {
            "cell_type": "markdown",
            "metadata": {},
            "source": [
                "<h6><p style=\"text-align: center;\">\n",
                "<strong>Disclaimer:</strong>\n",
                "This tutorial is an adaptation of the Prof. Robinette's EECE5560 UMass Lowell class and <strong> <a href=\"https://github.com/duckietown/lectures/blob/master/2018/pdfs/cv_basics.pdf\">Duckietown materials</a></strong>\n",
                "</p></h6>"
            ]
        }
    ],
    "metadata": {
        "kernelspec": {
            "display_name": "Python 3.8.10 64-bit",
            "language": "python",
            "name": "python3"
        },
        "language_info": {
            "codemirror_mode": {
                "name": "ipython",
                "version": 2
            },
            "file_extension": ".py",
            "mimetype": "text/x-python",
            "name": "python",
            "nbconvert_exporter": "python",
            "pygments_lexer": "ipython2",
            "version": "3.8.10"
        },
        "vscode": {
            "interpreter": {
                "hash": "916dbcbb3f70747c44a77c7bcd40155683ae19c65e1c03b4aa3499c5328201f1"
            }
        }
    },
    "nbformat": 4,
    "nbformat_minor": 0
}
