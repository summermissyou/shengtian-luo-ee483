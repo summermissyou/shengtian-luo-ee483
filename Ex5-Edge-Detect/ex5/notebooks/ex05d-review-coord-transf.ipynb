{
    "cells": [
        {
            "cell_type": "markdown",
            "metadata": {},
            "source": [
                "<div style=\"text-align: center;\">\n",
                "\n",
                "<h1 style= \"color:yellowgreen\">Review and Coordinate Transforms\n",
                "</h1>\n",
                "\n",
                "</div>\n",
                "\n",
                "<h2 style= \"color:coral\">Review of Ex4 and Ex5\n",
                "</h2>\n",
                "\n",
                "We have covered in this exercise\n",
                "- Kernel operations\n",
                "- Edge detection\n",
                "- Finding lines with Hough transform\n",
                "\n",
                "Over all the flow of detecting the lanes are:\n",
                "\n",
                "Input: Image from the MM camera with lanes\n",
                "\n",
                "1. Crop image to focus only on the lanes (bottom half of the image)\n",
                "2. Filter image for white pixels using the HSV color space (right lane) and Dilate and Erode mask for better results\n",
                "3. Find edges using Canny edge detection in cropped image (Blur + Edge detection) \n",
                "4. Combine Edge detection with Filtered image (prep for Hough transform)\n",
                "5. Perfom Hough transform in image from step 4 to find line segments\n",
                "6. Overlay line segments in the cropped image from step 1\n",
                "\n",
                "Output: Image with overlayed line segments and line segments\n",
                "\n",
                "<br><img src=\"../assets/ex5-imgs/flow-ex4+ex5.png\" style=\"width: 50%; height: auto;\"></br>\n",
                "Images from <strong> <a href=\"https://studentuml-my.sharepoint.com/:p:/g/personal/paul_robinette_uml_edu/EQg2JJbsJptBsXRfwwWbHTEBvY8F6YCcOLRM6aUr7Nxayg?rtime=AkdpgAHn3Eg\">Prof. Robinette EECE5560</a></strong>\n",
                "\n",
                "\n",
                "\n",
                "<h2 style= \"color:coral\">What's next?\n",
                "</h2>\n",
                "\n",
                "We found the line segments related to the lanes with respect to the camera.  \n",
                "In other words, we have the pixel positions of these lines  \n",
                "That's great information but it is still part of what we need  \n",
                "We want to find the position of the robot with respect to lanes  \n",
                "Thus we need:\n",
                "\n",
                "<br><img src=\"../assets/ex5-imgs/coordinate-overview.png\" style=\"width: 50%; height: auto;\"></br>\n",
                "Images from <strong> <a href=\"https://studentuml-my.sharepoint.com/:p:/g/personal/paul_robinette_uml_edu/EQg2JJbsJptBsXRfwwWbHTEBvY8F6YCcOLRM6aUr7Nxayg?rtime=AkdpgAHn3Eg\">Prof. Robinette EECE5560</a></strong>\n",
                "\n",
                "\n",
                "Finding the coordinates of the lane with respect to robot's **frame**, we can estimate the **angle of attack** of the robot as well as the position of robot with respect to the lane.   \n",
                "The angle of attack says the direction of the MM with respect to the lane, e.g., 0 degrees means that the robot is aligned with the lane.  \n",
                "We are covering this topic in the next exercise (Ex6) 🙂  \n",
                "One of the reasons of the MM's camera calibration is to better estimate these values\n",
                "\n"
            ]
        },
        {
            "cell_type": "markdown",
            "metadata": {},
            "source": [
                "<h6><p style=\"text-align: center;\">\n",
                "<strong>Disclaimer:</strong>\n",
                "This tutorial is an adaptation of the Prof. Robinette's EECE5560 UMass Lowell class.\n",
                "</p></h6>"
            ]
        }
    ],
    "metadata": {
        "kernelspec": {
            "display_name": "Python 3.8.10 64-bit",
            "language": "python",
            "name": "python3"
        },
        "language_info": {
            "codemirror_mode": {
                "name": "ipython",
                "version": 2
            },
            "file_extension": ".py",
            "mimetype": "text/x-python",
            "name": "python",
            "nbconvert_exporter": "python",
            "pygments_lexer": "ipython2",
            "version": "3.8.10"
        },
        "vscode": {
            "interpreter": {
                "hash": "916dbcbb3f70747c44a77c7bcd40155683ae19c65e1c03b4aa3499c5328201f1"
            }
        }
    },
    "nbformat": 4,
    "nbformat_minor": 0
}
