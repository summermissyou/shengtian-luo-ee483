{
    "cells": [
        {
            "cell_type": "markdown",
            "metadata": {},
            "source": [
                "<div style=\"text-align: center;\">\n",
                "\n",
                "<h1 style= \"color:yellowgreen\">Kernel Operations\n",
                "</h1>\n",
                "\n",
                "</div>\n",
                "\n",
                "How do we find more information about the lines.   \n",
                "In Ex4, we found the lanes using color filters.  \n",
                "Could we extract more (accurate) information from the lanes in the image?\n",
                "For example, finding lines to represent the lanes in the image.\n",
                "\n",
                "<br><img src=\"../assets/ex5-imgs/finding-lines.png\" style=\"width: 20%; height: auto;\"></br>\n",
                "\n",
                "To find these lines, we start by review concepts of Kernel operations in images\n",
                "\n",
                "## Kernel Operations\n",
                "\n",
                "Kernel operations is performing a convolutions between the kernel and an image.\n",
                "A 2D convolution!!!\n",
                "\n",
                "<br><img src=\"../assets/ex5-imgs/convolution-meme.jpg\" style=\"width: 15%; height: auto;\"></br>\n",
                "\n",
                "Mathematically it is defined as:\n",
                "\n",
                "$g(x,y) = \\omega * f(x,y) = \\sum_{dx=-a}^{a}\\sum_{dy=-b}^{b}\\omega(dx,dy)f(x+dx,y+dy)$\n",
                "\n",
                "where $g(x,y)$ is the filtered image, $f(x,y)$ is the input image, $\\omega$ is the kernel with size $-a\\leq i \\leq a$ and $-b\\leq i \\leq b$\n",
                "\n",
                "<strong> <a href=\"https://en.wikipedia.org/wiki/Kernel_(image_processing)\">Kernel operations</a></strong>\n",
                "\n",
                "Visual Steps:\n",
                "\n",
                "<br><img src=\"../assets/ex5-imgs/kernel-op-input.png\" style=\"width: 15%; height: auto;\"></br>\n",
                "\n",
                "<br>\n",
                "<img src=\"../assets/ex5-imgs/kernel-op-1.png\" style=\"width: 25%; height: auto;\">\n",
                "<img src=\"../assets/ex5-imgs/kernel-op-2.png\" style=\"width: 25%; height: auto;\">\n",
                "</br>\n",
                "<br>\n",
                "<img src=\"../assets/ex5-imgs/kernel-op-3.png\" style=\"width: 25%; height: auto;\">\n",
                "<img src=\"../assets/ex5-imgs/kernel-op-4.png\" style=\"width: 25%; height: auto;\">\n",
                "</br>\n",
                "\n",
                "Final Result:\n",
                "\n",
                "<br><img src=\"../assets/ex5-imgs/kernel-op-output.png\" style=\"width: 25%; height: auto;\"></br>\n",
                "\n",
                "Centered pixels are the average of *neighbors* pixels where neighbors are determined by the size of the kernel.   \n",
                "In the case above, we are skipping edge pixels, i.e., pixels where the kernel operation does not completely overlap with image.  \n",
                "For instance, pixel (1,1) remains the same.  \n",
                "There are a variety of methods for handling image edges.  \n",
                "\n",
                "## Types of Kernels\n",
                "\n",
                "### Normalized Blur\n",
                "\n",
                "The example above applied the normalized blur kernel.  \n",
                "Kernel values will average the pixels uniformly\n",
                "<br><img src=\"../assets/ex5-imgs/kernel-op-output.png\" style=\"width: 25%; height: auto;\"></br>\n",
                "\n",
                "In OpenCv, we can apply using the following code"
            ]
        },
        {
            "cell_type": "code",
            "execution_count": null,
            "metadata": {},
            "outputs": [],
            "source": [
                "cv2.blur(img,(3,3)) #Applies a 3x3 normalized kernel\n",
                "cv2.blur(img,(5,5)) #Applies a 5x5 normalized kernel"
            ]
        },
        {
            "cell_type": "markdown",
            "metadata": {},
            "source": [
                "### Gaussian Blur\n",
                "\n",
                "Uses the Gaussian kernel.  \n",
                "The Gaussian kernel is constructed using the Gaussian distribution \n",
                "\n",
                "<br><img src=\"../assets/ex5-imgs/kernel-op-gaussian.png\" style=\"width: 25%; height: auto;\"></br>\n",
                "\n",
                "In OpenCv, we can apply using the following code\n",
                "\n"
            ]
        },
        {
            "cell_type": "code",
            "execution_count": null,
            "metadata": {},
            "outputs": [],
            "source": [
                "cv2.GaussianBlur(img,(3,3)) #Applies a 3x3 Gaussian kernel\n",
                "cv2.GaussianBlur(img,(5,5)) #Applies a 5x5 Gaussian kernel"
            ]
        },
        {
            "cell_type": "markdown",
            "metadata": {},
            "source": [
                "Edge detection Kernel\n",
                "\n",
                "Detecting edges in an image can also be done via kernel operation  \n",
                "The kernels below find vertical and horizontal edges \n",
                "<br><img src=\"../assets/ex5-imgs/kernel-op-edges.png\" style=\"width: 25%; height: auto;\"></br>\n",
                "\n",
                "In the next notebook, we will cover edge detection in more depth."
            ]
        },
        {
            "cell_type": "markdown",
            "metadata": {},
            "source": [
                "<h6><p style=\"text-align: center;\">\n",
                "<strong>Disclaimer:</strong>\n",
                "This tutorial is an adaptation of the Prof. Robinette's EECE5560 UMass Lowell class.\n",
                "</p></h6>"
            ]
        }
    ],
    "metadata": {
        "kernelspec": {
            "display_name": "Python 3.8.10 64-bit",
            "language": "python",
            "name": "python3"
        },
        "language_info": {
            "codemirror_mode": {
                "name": "ipython",
                "version": 2
            },
            "file_extension": ".py",
            "mimetype": "text/x-python",
            "name": "python",
            "nbconvert_exporter": "python",
            "pygments_lexer": "ipython2",
            "version": "3.8.10"
        },
        "vscode": {
            "interpreter": {
                "hash": "916dbcbb3f70747c44a77c7bcd40155683ae19c65e1c03b4aa3499c5328201f1"
            }
        }
    },
    "nbformat": 4,
    "nbformat_minor": 0
}
